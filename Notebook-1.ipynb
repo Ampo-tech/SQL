{
    "metadata": {
        "kernelspec": {
            "name": "SQL",
            "display_name": "SQL",
            "language": "sql"
        },
        "language_info": {
            "name": "sql",
            "version": ""
        }
    },
    "nbformat_minor": 2,
    "nbformat": 4,
    "cells": [
        {
            "cell_type": "markdown",
            "source": [
                "# **SQL TIPS AND TRICKS**"
            ],
            "metadata": {
                "azdata_cell_guid": "084a719d-0ea0-4b4b-9e4e-b52feef91fbb"
            },
            "attachments": {}
        },
        {
            "cell_type": "markdown",
            "source": [
                "1\\. Query Heading"
            ],
            "metadata": {
                "azdata_cell_guid": "9397ab6e-c576-41a0-91fe-0cfc1f481e06"
            },
            "attachments": {}
        },
        {
            "cell_type": "markdown",
            "source": [
                "Use Case:  \n",
                "Explanation:  \n",
                "Code  \n",
                "\n",
                "<span style=\"color: #0000ff;\">SELECT</span> transaction\\_month,\n",
                "\n",
                "        <span style=\"color: #795e26;\">SUM</span>(total\\_sale) <span style=\"color: #0000ff;\">AS</span> total\\_sales\n",
                "\n",
                "<span style=\"color: #0000ff;\">FROM</span> dbo.transactions\\_fact\n",
                "\n",
                "<span style=\"color: #0000ff;\">GROUP BY</span> transaction\\_month\n",
                "\n",
                "<span style=\"color: #0000ff;\">ORDER BY</span> transaction\\_month <span style=\"color: #0000ff;\">DESC</span>;"
            ],
            "metadata": {
                "azdata_cell_guid": "9f22cbad-d1de-4e69-b17a-e3cae23913e1"
            },
            "attachments": {}
        },
        {
            "cell_type": "code",
            "source": [
                "SELECT TOP 5 transaction_month, \r\n",
                "\t\tSUM(total_sale) AS total_sales\r\n",
                "FROM dbo.transactions_fact\r\n",
                "GROUP BY transaction_month\r\n",
                "ORDER BY transaction_month DESC;"
            ],
            "metadata": {
                "azdata_cell_guid": "d022e9d8-611f-4063-9843-180ee01e6619",
                "language": "sql"
            },
            "outputs": [
                {
                    "output_type": "display_data",
                    "data": {
                        "text/html": "(5 rows affected)"
                    },
                    "metadata": {}
                },
                {
                    "output_type": "display_data",
                    "data": {
                        "text/html": "Total execution time: 00:00:00.111"
                    },
                    "metadata": {}
                },
                {
                    "output_type": "execute_result",
                    "execution_count": 1,
                    "data": {
                        "application/vnd.dataresource+json": {
                            "schema": {
                                "fields": [
                                    {
                                        "name": "transaction_month"
                                    },
                                    {
                                        "name": "total_sales"
                                    }
                                ]
                            },
                            "data": [
                                {
                                    "transaction_month": "September",
                                    "total_sales": "219294.91243445873"
                                },
                                {
                                    "transaction_month": "October",
                                    "total_sales": "205500.7844363451"
                                },
                                {
                                    "transaction_month": "November",
                                    "total_sales": "274695.6645374298"
                                },
                                {
                                    "transaction_month": "May",
                                    "total_sales": "215285.77651572227"
                                },
                                {
                                    "transaction_month": "March",
                                    "total_sales": "232756.20839560032"
                                }
                            ]
                        },
                        "text/html": "<table><tr><th>transaction_month</th><th>total_sales</th></tr><tr><td>September</td><td>219294.91243445873</td></tr><tr><td>October</td><td>205500.7844363451</td></tr><tr><td>November</td><td>274695.6645374298</td></tr><tr><td>May</td><td>215285.77651572227</td></tr><tr><td>March</td><td>232756.20839560032</td></tr></table>"
                    },
                    "metadata": {}
                }
            ],
            "execution_count": 1
        },
        {
            "cell_type": "markdown",
            "source": [
                "2\\. Query Heading"
            ],
            "metadata": {
                "azdata_cell_guid": "d8ba268b-7feb-48d0-bc2d-8f98c13c316f"
            },
            "attachments": {}
        },
        {
            "cell_type": "markdown",
            "source": [
                ""
            ],
            "metadata": {
                "azdata_cell_guid": "229155d7-e669-459f-93ba-75dbb56e8a8f"
            }
        }
    ]
}