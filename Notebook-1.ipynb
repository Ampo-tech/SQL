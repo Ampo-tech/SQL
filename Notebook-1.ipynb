{
    "metadata": {
        "kernelspec": {
            "name": "SQL",
            "display_name": "SQL",
            "language": "sql"
        },
        "language_info": {
            "name": "sql",
            "version": ""
        }
    },
    "nbformat_minor": 2,
    "nbformat": 4,
    "cells": [
        {
            "cell_type": "markdown",
            "source": [
                "# **SQL TIPS AND TRICKS**\n",
                "\n",
                "**💥 Represent beginner, 💥💥💥Intermediate, 💥💥💥💥Advanced, 💥💥💥💥💥Highly skilled**"
            ],
            "metadata": {
                "azdata_cell_guid": "084a719d-0ea0-4b4b-9e4e-b52feef91fbb"
            },
            "attachments": {}
        },
        {
            "cell_type": "markdown",
            "source": [
                "💥Trick 1: Returning transaction months and their total sales\n",
                "\n",
                "Uses Case: The SQL query is designed to retrieve the total sales for each month from the `transactions_fact` table.\n",
                "\n",
                "Explanation: SELECT transaction \\_month from the dbo.transactions\\_fact table, Sum the total\\_sales, GROUP BY transaction\\_month and ORDER BY transaction\\_month DESC\n",
                "\n",
                "```\n",
                "SELECT transaction_month, \n",
                "\t\tSUM(total_sale) AS total_sales\n",
                "FROM dbo.transactions_fact\n",
                "GROUP BY transaction_month\n",
                "ORDER BY transaction_month DESC;\n",
                "```"
            ],
            "metadata": {
                "azdata_cell_guid": "9397ab6e-c576-41a0-91fe-0cfc1f481e06"
            },
            "attachments": {}
        },
        {
            "cell_type": "code",
            "source": [
                "SELECT TOP 5 transaction_month, \r\n",
                "\t\tSUM(total_sale) AS total_sales\r\n",
                "FROM dbo.transactions_fact\r\n",
                "GROUP BY transaction_month\r\n",
                "ORDER BY transaction_month DESC;"
            ],
            "metadata": {
                "azdata_cell_guid": "d022e9d8-611f-4063-9843-180ee01e6619",
                "language": "sql"
            },
            "outputs": [
                {
                    "output_type": "display_data",
                    "data": {
                        "text/html": "(5 rows affected)"
                    },
                    "metadata": {}
                },
                {
                    "output_type": "display_data",
                    "data": {
                        "text/html": "Total execution time: 00:00:00.111"
                    },
                    "metadata": {}
                },
                {
                    "output_type": "execute_result",
                    "execution_count": 1,
                    "data": {
                        "application/vnd.dataresource+json": {
                            "schema": {
                                "fields": [
                                    {
                                        "name": "transaction_month"
                                    },
                                    {
                                        "name": "total_sales"
                                    }
                                ]
                            },
                            "data": [
                                {
                                    "transaction_month": "September",
                                    "total_sales": "219294.91243445873"
                                },
                                {
                                    "transaction_month": "October",
                                    "total_sales": "205500.7844363451"
                                },
                                {
                                    "transaction_month": "November",
                                    "total_sales": "274695.6645374298"
                                },
                                {
                                    "transaction_month": "May",
                                    "total_sales": "215285.77651572227"
                                },
                                {
                                    "transaction_month": "March",
                                    "total_sales": "232756.20839560032"
                                }
                            ]
                        },
                        "text/html": "<table><tr><th>transaction_month</th><th>total_sales</th></tr><tr><td>September</td><td>219294.91243445873</td></tr><tr><td>October</td><td>205500.7844363451</td></tr><tr><td>November</td><td>274695.6645374298</td></tr><tr><td>May</td><td>215285.77651572227</td></tr><tr><td>March</td><td>232756.20839560032</td></tr></table>"
                    },
                    "metadata": {}
                }
            ],
            "execution_count": 1
        },
        {
            "cell_type": "markdown",
            "source": [
                "💥💥Trick 2: Return the first 5 products with the highest Total Sales and their store locations\n",
                "\n",
                "Use Case: This SQL query retrieves and displays the top 5 products with the highest total sales, along with their respective store locations.\n",
                "\n",
                "Explanation: SELECT TOP 5 (this clause limits the output by the top 5 products according to their total sales\n",
                "\n",
                "```\n",
                "SELECT TOP 5 pro.product_name as 'Product Name',\n",
                "       cy.store_city as 'Store Location',\n",
                "       tr.total_sale as 'Total Sale'\n",
                "FROM dbo.products_dim pro\n",
                "INNER JOIN dbo.transactions_fact tr\n",
                "ON pro.product_id = tr.product_id\n",
                "INNER JOIN dbo.cities_dim cy\n",
                "ON tr.city_id = cy.city_id\n",
                "ORDER BY 'Total Sale' DESC\n",
                "\n",
                "```"
            ],
            "metadata": {
                "azdata_cell_guid": "d8ba268b-7feb-48d0-bc2d-8f98c13c316f"
            },
            "attachments": {}
        },
        {
            "cell_type": "code",
            "source": [
                "SELECT TOP 5 pro.product_name as 'Product Name',\r\n",
                "       cy.store_city as 'Store Location',\r\n",
                "\t   tr.total_sale as 'Total Sale'\r\n",
                "FROM dbo.products_dim pro\r\n",
                "INNER JOIN dbo.transactions_fact tr\r\n",
                "ON pro.product_id = tr.product_id\r\n",
                "INNER JOIN dbo.cities_dim cy\r\n",
                "ON tr.city_id = cy.city_id\r\n",
                "ORDER BY 'Total Sale' DESC"
            ],
            "metadata": {
                "azdata_cell_guid": "88fa22cc-1a01-4cb0-bdc2-3a78c7237a26",
                "language": "sql"
            },
            "outputs": [
                {
                    "output_type": "display_data",
                    "data": {
                        "text/html": "(5 rows affected)"
                    },
                    "metadata": {}
                },
                {
                    "output_type": "display_data",
                    "data": {
                        "text/html": "Total execution time: 00:00:00.092"
                    },
                    "metadata": {}
                },
                {
                    "output_type": "execute_result",
                    "metadata": {},
                    "execution_count": 1,
                    "data": {
                        "application/vnd.dataresource+json": {
                            "schema": {
                                "fields": [
                                    {
                                        "name": "Product Name"
                                    },
                                    {
                                        "name": "Store Location"
                                    },
                                    {
                                        "name": "Total Sale"
                                    }
                                ]
                            },
                            "data": [
                                {
                                    "Product Name": "Hermanos Lemons",
                                    "Store Location": "Salem",
                                    "Total Sale": "44.12800216674805"
                                },
                                {
                                    "Product Name": "Tell Tale Cantelope",
                                    "Store Location": "Vancouver",
                                    "Total Sale": "42.784000396728516"
                                },
                                {
                                    "Product Name": "Tell Tale Almonds",
                                    "Store Location": "Salem",
                                    "Total Sale": "41.215999603271484"
                                },
                                {
                                    "Product Name": "Even Better Havarti Cheese",
                                    "Store Location": "Salem",
                                    "Total Sale": "40.43199920654297"
                                },
                                {
                                    "Product Name": "Even Better String Cheese",
                                    "Store Location": "Salem",
                                    "Total Sale": "39.20000076293945"
                                }
                            ]
                        },
                        "text/html": [
                            "<table>",
                            "<tr><th>Product Name</th><th>Store Location</th><th>Total Sale</th></tr>",
                            "<tr><td>Hermanos Lemons</td><td>Salem</td><td>44.12800216674805</td></tr>",
                            "<tr><td>Tell Tale Cantelope</td><td>Vancouver</td><td>42.784000396728516</td></tr>",
                            "<tr><td>Tell Tale Almonds</td><td>Salem</td><td>41.215999603271484</td></tr>",
                            "<tr><td>Even Better Havarti Cheese</td><td>Salem</td><td>40.43199920654297</td></tr>",
                            "<tr><td>Even Better String Cheese</td><td>Salem</td><td>39.20000076293945</td></tr>",
                            "</table>"
                        ]
                    }
                }
            ],
            "execution_count": 1
        },
        {
            "cell_type": "markdown",
            "source": [
                "💥💥Trick 3: Return the Total Sales by Region\n",
                "\n",
                "Use Case: This is the best query for a company to determine the performance of its activities in the various regions it operates in.\n",
                "\n",
                "<span style=\"color: var(--vscode-foreground);\">Explanation: Two different tables need to be joined to report this data. JOIN transaction_fact table with cities_dim table by using their city_ids.</span>\n",
                "\n",
                "```\n",
                "SELECT cy.sales_region, \n",
                "        SUM(tr.total_sale) AS total_sales\n",
                "FROM dbo.transactions_fact tr\n",
                "JOIN dbo.cities_dim cy \n",
                "ON tr.city_id = cy.city_id\n",
                "GROUP BY cy.sales_region\n",
                "```"
            ],
            "metadata": {
                "azdata_cell_guid": "0e17659b-e651-4381-b99f-92d89328a567"
            },
            "attachments": {}
        },
        {
            "cell_type": "code",
            "source": [
                "SELECT cy.sales_region, \r\n",
                "        SUM(tr.total_sale) AS total_sales\r\n",
                "FROM dbo.transactions_fact tr\r\n",
                "JOIN dbo.cities_dim cy \r\n",
                "ON tr.city_id = cy.city_id\r\n",
                "GROUP BY cy.sales_region"
            ],
            "metadata": {
                "azdata_cell_guid": "af98b5ac-a6f8-4771-b7e1-02fb96e62f0c",
                "language": "sql"
            },
            "outputs": [
                {
                    "output_type": "display_data",
                    "data": {
                        "text/html": "(4 rows affected)"
                    },
                    "metadata": {}
                },
                {
                    "output_type": "display_data",
                    "data": {
                        "text/html": "Total execution time: 00:00:00.117"
                    },
                    "metadata": {}
                },
                {
                    "output_type": "execute_result",
                    "metadata": {},
                    "execution_count": 2,
                    "data": {
                        "application/vnd.dataresource+json": {
                            "schema": {
                                "fields": [
                                    {
                                        "name": "sales_region"
                                    },
                                    {
                                        "name": "total_sales"
                                    }
                                ]
                            },
                            "data": [
                                {
                                    "sales_region": "Canada West",
                                    "total_sales": "226775.72849678993"
                                },
                                {
                                    "sales_region": "Central West",
                                    "total_sales": "24196.78405368328"
                                },
                                {
                                    "sales_region": "North West",
                                    "total_sales": "1796018.483824253"
                                },
                                {
                                    "sales_region": "South West",
                                    "total_sales": "676241.9851863384"
                                }
                            ]
                        },
                        "text/html": [
                            "<table>",
                            "<tr><th>sales_region</th><th>total_sales</th></tr>",
                            "<tr><td>Canada West</td><td>226775.72849678993</td></tr>",
                            "<tr><td>Central West</td><td>24196.78405368328</td></tr>",
                            "<tr><td>North West</td><td>1796018.483824253</td></tr>",
                            "<tr><td>South West</td><td>676241.9851863384</td></tr>",
                            "</table>"
                        ]
                    }
                }
            ],
            "execution_count": 2
        },
        {
            "cell_type": "markdown",
            "source": [
                "💥💥Trick 4: Return the top-selling product in Vancouver\n",
                "\n",
                "Use Case: To learn about the top-selling products in Vancouver, you will need this particular query. The report of this query will help decision making in Vnacouver transactions.\n",
                "\n",
                "Explanation: The report of this query comes from two different tables. Therefore, the query is done by INNER JOINING of transaction\\_fact table to products\\_dim table via the use of product\\_id.\n",
                "\n",
                "  \n",
                "\n",
                "```\n",
                "SELECT TOP 1 pro.product_name, \n",
                "\t\tSUM(tr.total_sale) AS 'Total Sales'\n",
                "FROM dbo.transactions_fact tr\n",
                "\tINNER JOIN dbo.products_dim pro \n",
                "\tON tr.product_id = pro.product_id\n",
                "WHERE tr.city_id = 19\n",
                "GROUP BY pro.product_name\n",
                "ORDER BY 'Total Sales' DESC;\n",
                "```"
            ],
            "metadata": {
                "azdata_cell_guid": "a9b804e9-c6ea-4edf-97b5-c40860de1141"
            },
            "attachments": {}
        },
        {
            "cell_type": "code",
            "source": [
                "SELECT TOP 1 pro.product_name, \r\n",
                "\t\tSUM(tr.total_sale) AS 'Total Sales'\r\n",
                "FROM dbo.transactions_fact tr\r\n",
                "\tJOIN dbo.products_dim pro \r\n",
                "\tON tr.product_id = pro.product_id\r\n",
                "WHERE tr.city_id = 19\r\n",
                "GROUP BY pro.product_name\r\n",
                "ORDER BY 'Total Sales' DESC;"
            ],
            "metadata": {
                "azdata_cell_guid": "f5b0579c-39b4-4d93-92cb-ebda1d9c6894",
                "language": "sql"
            },
            "outputs": [
                {
                    "output_type": "display_data",
                    "data": {
                        "text/html": "(1 row affected)"
                    },
                    "metadata": {}
                },
                {
                    "output_type": "display_data",
                    "data": {
                        "text/html": "Total execution time: 00:00:00.086"
                    },
                    "metadata": {}
                },
                {
                    "output_type": "execute_result",
                    "metadata": {},
                    "execution_count": 3,
                    "data": {
                        "application/vnd.dataresource+json": {
                            "schema": {
                                "fields": [
                                    {
                                        "name": "product_name"
                                    },
                                    {
                                        "name": "Total Sales"
                                    }
                                ]
                            },
                            "data": [
                                {
                                    "product_name": "Horatio Frosted Cookies",
                                    "Total Sales": "399.3600158691406"
                                }
                            ]
                        },
                        "text/html": [
                            "<table>",
                            "<tr><th>product_name</th><th>Total Sales</th></tr>",
                            "<tr><td>Horatio Frosted Cookies</td><td>399.3600158691406</td></tr>",
                            "</table>"
                        ]
                    }
                }
            ],
            "execution_count": 3
        },
        {
            "cell_type": "markdown",
            "source": [
                "💥💥💥Trick 5: Return the total sales by cities and <span style=\"color: var(--vscode-foreground);\">Limit the search to Citeis that begin with 'S'</span>\n",
                "\n",
                "Use Case: This query is used to report on a specific City in the database. It can also be used to report on a specific product.\n",
                "\n",
                "<span style=\"color: var(--vscode-foreground);\">Explanation: Again, you will need two different tables to make this query successful. You need the cities_dim table and transactions_fact table. INNER JOIN the two tables with city_id from all the two tables. WHERE clause with LIKE&nbsp; '%' wildcard is then used to limit the search to cities that begin with S. Finally, you use GROUP BY and ORDER BY clauses.</span>\n",
                "\n",
                "```\n",
                "SELECT cy.store_city,\n",
                "       SUM(tr.total_sale) as 'Total Sales'\n",
                "FROM dbo.cities_dim cy\n",
                "INNER JOIN dbo.transactions_fact tr\n",
                "ON cy.city_id = tr.city_id\n",
                "WHERE store_city LIKE 'S%'\n",
                "GROUP BY cy.store_city\n",
                "ORDER BY 'Total Sales' DESC \n",
                "```"
            ],
            "metadata": {
                "azdata_cell_guid": "c1f05665-8447-4ac1-a2db-bb62d1ebe15d"
            },
            "attachments": {}
        },
        {
            "cell_type": "code",
            "source": [
                "SELECT cy.store_city,\r\n",
                "       SUM(tr.total_sale) as 'Total Sales'\r\n",
                "FROM dbo.cities_dim cy\r\n",
                "INNER JOIN dbo.transactions_fact tr\r\n",
                "ON cy.city_id = tr.city_id\r\n",
                "WHERE store_city LIKE 'S%'\r\n",
                "GROUP BY cy.store_city\r\n",
                "ORDER BY 'Total Sales' DESC"
            ],
            "metadata": {
                "azdata_cell_guid": "b2938249-228a-4761-a7fe-71a3fe26016c",
                "language": "sql"
            },
            "outputs": [
                {
                    "output_type": "display_data",
                    "data": {
                        "text/html": "(5 rows affected)"
                    },
                    "metadata": {}
                },
                {
                    "output_type": "display_data",
                    "data": {
                        "text/html": "Total execution time: 00:00:00.096"
                    },
                    "metadata": {}
                },
                {
                    "output_type": "execute_result",
                    "metadata": {},
                    "execution_count": 4,
                    "data": {
                        "application/vnd.dataresource+json": {
                            "schema": {
                                "fields": [
                                    {
                                        "name": "store_city"
                                    },
                                    {
                                        "name": "Total Sales"
                                    }
                                ]
                            },
                            "data": [
                                {
                                    "store_city": "Salem",
                                    "Total Sales": "359772.6567313671"
                                },
                                {
                                    "store_city": "Seattle",
                                    "Total Sales": "244510.1284675598"
                                },
                                {
                                    "store_city": "San Diego",
                                    "Total Sales": "234326.0644943714"
                                },
                                {
                                    "store_city": "Spokane",
                                    "Total Sales": "232354.44847083092"
                                },
                                {
                                    "store_city": "San Francisco",
                                    "Total Sales": "24196.78405368328"
                                }
                            ]
                        },
                        "text/html": [
                            "<table>",
                            "<tr><th>store_city</th><th>Total Sales</th></tr>",
                            "<tr><td>Salem</td><td>359772.6567313671</td></tr>",
                            "<tr><td>Seattle</td><td>244510.1284675598</td></tr>",
                            "<tr><td>San Diego</td><td>234326.0644943714</td></tr>",
                            "<tr><td>Spokane</td><td>232354.44847083092</td></tr>",
                            "<tr><td>San Francisco</td><td>24196.78405368328</td></tr>",
                            "</table>"
                        ]
                    }
                }
            ],
            "execution_count": 4
        },
        {
            "cell_type": "markdown",
            "source": [
                "💥💥💥Trick 6: Return the highest number of transactions for each product\n",
                "\n",
                "Use Case: The query is essential for finding the highest transactions for each product\n",
                "\n",
                "Explanation: Use INNER JOIN to select product\\_name and transactions\\_date from the products\\_dim and transaction\\_fact tables via product\\_id. Then COUNT transaction\\_date as Transaction Count and GROUP BY product\\_name.\n",
                "\n",
                "```\n",
                "SELECT pro.product_name,\n",
                "       COUNT(tr.transaction_date) as 'Transaction Count'\n",
                "FROM dbo.products_dim pro\n",
                "INNER JOIN dbo.transactions_fact tr\n",
                "ON pro.product_id = tr.product_id\n",
                "GROUP BY pro.product_name\n",
                "\n",
                "```"
            ],
            "metadata": {
                "azdata_cell_guid": "fa774226-6430-4ed5-8632-e0ceb0733c14"
            },
            "attachments": {}
        },
        {
            "cell_type": "code",
            "source": [
                "SELECT TOP 10 pro.product_name,\r\n",
                "       COUNT(tr.transaction_date) as 'Transaction Count'\r\n",
                "FROM dbo.products_dim pro\r\n",
                "INNER JOIN dbo.transactions_fact tr\r\n",
                "ON pro.product_id = tr.product_id\r\n",
                "GROUP BY pro.product_name"
            ],
            "metadata": {
                "azdata_cell_guid": "6287c6e1-91b2-47df-9210-4b9e1c69c91b",
                "language": "sql"
            },
            "outputs": [
                {
                    "output_type": "display_data",
                    "data": {
                        "text/html": "(10 rows affected)"
                    },
                    "metadata": {}
                },
                {
                    "output_type": "display_data",
                    "data": {
                        "text/html": "Total execution time: 00:00:00.110"
                    },
                    "metadata": {}
                },
                {
                    "output_type": "execute_result",
                    "metadata": {},
                    "execution_count": 5,
                    "data": {
                        "application/vnd.dataresource+json": {
                            "schema": {
                                "fields": [
                                    {
                                        "name": "product_name"
                                    },
                                    {
                                        "name": "Transaction Count"
                                    }
                                ]
                            },
                            "data": [
                                {
                                    "product_name": "ADJ Rosy Sunglasses",
                                    "Transaction Count": "143"
                                },
                                {
                                    "product_name": "Akron City Map",
                                    "Transaction Count": "123"
                                },
                                {
                                    "product_name": "Akron Eyeglass Screwdriver",
                                    "Transaction Count": "140"
                                },
                                {
                                    "product_name": "American Beef Bologna",
                                    "Transaction Count": "124"
                                },
                                {
                                    "product_name": "American Chicken Hot Dogs",
                                    "Transaction Count": "120"
                                },
                                {
                                    "product_name": "American Cole Slaw",
                                    "Transaction Count": "124"
                                },
                                {
                                    "product_name": "American Corned Beef",
                                    "Transaction Count": "118"
                                },
                                {
                                    "product_name": "American Foot-Long Hot Dogs",
                                    "Transaction Count": "132"
                                },
                                {
                                    "product_name": "American Low Fat Bologna",
                                    "Transaction Count": "126"
                                },
                                {
                                    "product_name": "American Low Fat Cole Slaw",
                                    "Transaction Count": "125"
                                }
                            ]
                        },
                        "text/html": [
                            "<table>",
                            "<tr><th>product_name</th><th>Transaction Count</th></tr>",
                            "<tr><td>ADJ Rosy Sunglasses</td><td>143</td></tr>",
                            "<tr><td>Akron City Map</td><td>123</td></tr>",
                            "<tr><td>Akron Eyeglass Screwdriver</td><td>140</td></tr>",
                            "<tr><td>American Beef Bologna</td><td>124</td></tr>",
                            "<tr><td>American Chicken Hot Dogs</td><td>120</td></tr>",
                            "<tr><td>American Cole Slaw</td><td>124</td></tr>",
                            "<tr><td>American Corned Beef</td><td>118</td></tr>",
                            "<tr><td>American Foot-Long Hot Dogs</td><td>132</td></tr>",
                            "<tr><td>American Low Fat Bologna</td><td>126</td></tr>",
                            "<tr><td>American Low Fat Cole Slaw</td><td>125</td></tr>",
                            "</table>"
                        ]
                    }
                }
            ],
            "execution_count": 5
        },
        {
            "cell_type": "markdown",
            "source": [
                "💥💥💥Trick 7: Return the TOP 10 minimum total sales for each product\n",
                "\n",
                "Use Case: The query below identifies the products that do not have enough sales.\n",
                "\n",
                "Explanation: By selecting product\\_id and total\\_sale from the transactions\\_fact table, the use MIN function to find the minimum total sales for each product. Then ORDER BY clause is used order the minimum sales in descending order.\n",
                "\n",
                "  \n",
                "\n",
                "```\n",
                "SELECT TOP 10 product_id,\n",
                "       Min(total_sale) as 'Minimum Sales'\n",
                "FROM dbo.transactions_fact\n",
                "GROUP BY product_id\n",
                "ORDER BY 'Minimum Sales' DESC\n",
                "\n",
                "```"
            ],
            "metadata": {
                "azdata_cell_guid": "f6fa090e-9d45-437a-a8bc-8f5615850ed2"
            },
            "attachments": {}
        },
        {
            "cell_type": "code",
            "source": [
                "SELECT TOP 10 product_id,\r\n",
                "       Min(total_sale) as 'Minimum Sales'\r\n",
                "FROM dbo.transactions_fact\r\n",
                "GROUP BY product_id\r\n",
                "ORDER BY 'Minimum Sales' DESC\r\n",
                ""
            ],
            "metadata": {
                "azdata_cell_guid": "0fe6fd6a-e05a-4f55-87c8-8b9dbc2efd90",
                "language": "sql"
            },
            "outputs": [
                {
                    "output_type": "display_data",
                    "data": {
                        "text/html": "(10 rows affected)"
                    },
                    "metadata": {}
                },
                {
                    "output_type": "display_data",
                    "data": {
                        "text/html": "Total execution time: 00:00:00.094"
                    },
                    "metadata": {}
                },
                {
                    "output_type": "execute_result",
                    "metadata": {},
                    "execution_count": 6,
                    "data": {
                        "application/vnd.dataresource+json": {
                            "schema": {
                                "fields": [
                                    {
                                        "name": "product_id"
                                    },
                                    {
                                        "name": "Minimum Sales"
                                    }
                                ]
                            },
                            "data": [
                                {
                                    "product_id": "941",
                                    "Minimum Sales": "18.96000099182129"
                                },
                                {
                                    "product_id": "141",
                                    "Minimum Sales": "18.86400032043457"
                                },
                                {
                                    "product_id": "1049",
                                    "Minimum Sales": "18.86400032043457"
                                },
                                {
                                    "product_id": "744",
                                    "Minimum Sales": "18.76799964904785"
                                },
                                {
                                    "product_id": "123",
                                    "Minimum Sales": "18.43199920654297"
                                },
                                {
                                    "product_id": "559",
                                    "Minimum Sales": "18.143999099731445"
                                },
                                {
                                    "product_id": "193",
                                    "Minimum Sales": "17.663999557495117"
                                },
                                {
                                    "product_id": "4",
                                    "Minimum Sales": "17.472000122070312"
                                },
                                {
                                    "product_id": "1117",
                                    "Minimum Sales": "17.472000122070312"
                                },
                                {
                                    "product_id": "80",
                                    "Minimum Sales": "17.423999786376953"
                                }
                            ]
                        },
                        "text/html": [
                            "<table>",
                            "<tr><th>product_id</th><th>Minimum Sales</th></tr>",
                            "<tr><td>941</td><td>18.96000099182129</td></tr>",
                            "<tr><td>141</td><td>18.86400032043457</td></tr>",
                            "<tr><td>1049</td><td>18.86400032043457</td></tr>",
                            "<tr><td>744</td><td>18.76799964904785</td></tr>",
                            "<tr><td>123</td><td>18.43199920654297</td></tr>",
                            "<tr><td>559</td><td>18.143999099731445</td></tr>",
                            "<tr><td>193</td><td>17.663999557495117</td></tr>",
                            "<tr><td>4</td><td>17.472000122070312</td></tr>",
                            "<tr><td>1117</td><td>17.472000122070312</td></tr>",
                            "<tr><td>80</td><td>17.423999786376953</td></tr>",
                            "</table>"
                        ]
                    }
                }
            ],
            "execution_count": 6
        },
        {
            "cell_type": "markdown",
            "source": [
                "💥💥💥Trick 8: Return the TOP 10 maximum total sales for each product\n",
                "\n",
                "Use Case: The query below identifies the products that have more sales.\n",
                "\n",
                "Explanation: Selecting product\\_id and total\\_sale from the transactions\\_fact table, the MAX function is used to find the minimum total sales for each product. The ORDER BY clause is used to order the maximum sales in descending order.\n",
                "\n",
                "```\n",
                "SELECT TOP 10 product_id,\n",
                "       MAX(total_sale) as 'Maximum Sales'\n",
                "FROM dbo.transactions_fact\n",
                "GROUP BY product_id\n",
                "ORDER BY 'Maximum Sales' DESC\n",
                "```"
            ],
            "metadata": {
                "azdata_cell_guid": "55a36444-53bd-4203-a904-9d1ee38f8b49"
            },
            "attachments": {}
        },
        {
            "cell_type": "code",
            "source": [
                "SELECT TOP 10 product_id,\r\n",
                "       MAX(total_sale) as 'Maximum Sales'\r\n",
                "FROM dbo.transactions_fact\r\n",
                "GROUP BY product_id\r\n",
                "ORDER BY 'Maximum Sales' DESC"
            ],
            "metadata": {
                "azdata_cell_guid": "b376d1e0-4990-4fdf-b250-3be75c964fcf",
                "language": "sql"
            },
            "outputs": [
                {
                    "output_type": "display_data",
                    "data": {
                        "text/html": "(10 rows affected)"
                    },
                    "metadata": {}
                },
                {
                    "output_type": "display_data",
                    "data": {
                        "text/html": "Total execution time: 00:00:00.095"
                    },
                    "metadata": {}
                },
                {
                    "output_type": "execute_result",
                    "metadata": {},
                    "execution_count": 7,
                    "data": {
                        "application/vnd.dataresource+json": {
                            "schema": {
                                "fields": [
                                    {
                                        "name": "product_id"
                                    },
                                    {
                                        "name": "Maximum Sales"
                                    }
                                ]
                            },
                            "data": [
                                {
                                    "product_id": "1448",
                                    "Maximum Sales": "44.12800216674805"
                                },
                                {
                                    "product_id": "519",
                                    "Maximum Sales": "42.784000396728516"
                                },
                                {
                                    "product_id": "506",
                                    "Maximum Sales": "41.215999603271484"
                                },
                                {
                                    "product_id": "988",
                                    "Maximum Sales": "40.43199920654297"
                                },
                                {
                                    "product_id": "986",
                                    "Maximum Sales": "39.20000076293945"
                                },
                                {
                                    "product_id": "330",
                                    "Maximum Sales": "38.20800018310547"
                                },
                                {
                                    "product_id": "1310",
                                    "Maximum Sales": "38.20800018310547"
                                },
                                {
                                    "product_id": "746",
                                    "Maximum Sales": "38.20800018310547"
                                },
                                {
                                    "product_id": "372",
                                    "Maximum Sales": "38.20800018310547"
                                },
                                {
                                    "product_id": "641",
                                    "Maximum Sales": "38.20800018310547"
                                }
                            ]
                        },
                        "text/html": [
                            "<table>",
                            "<tr><th>product_id</th><th>Maximum Sales</th></tr>",
                            "<tr><td>1448</td><td>44.12800216674805</td></tr>",
                            "<tr><td>519</td><td>42.784000396728516</td></tr>",
                            "<tr><td>506</td><td>41.215999603271484</td></tr>",
                            "<tr><td>988</td><td>40.43199920654297</td></tr>",
                            "<tr><td>986</td><td>39.20000076293945</td></tr>",
                            "<tr><td>330</td><td>38.20800018310547</td></tr>",
                            "<tr><td>1310</td><td>38.20800018310547</td></tr>",
                            "<tr><td>746</td><td>38.20800018310547</td></tr>",
                            "<tr><td>372</td><td>38.20800018310547</td></tr>",
                            "<tr><td>641</td><td>38.20800018310547</td></tr>",
                            "</table>"
                        ]
                    }
                }
            ],
            "execution_count": 7
        },
        {
            "cell_type": "markdown",
            "source": [
                "💥💥💥💥Trick 9: Return the total quantity sold for each product\n",
                "\n",
                "Use Case: This query is used to report on the total amount of products sold\n",
                "\n",
                "Explanation: SELECT product\\_id and quantity from the transactions\\_fact table. Then, use the SUM function to find the quantity of product sold.\n",
                "\n",
                "```\n",
                "SELECT TOP 10 product_id,\n",
                "       SUM(quantity) as 'Total Quantity'\n",
                "FROM dbo.transactions_fact\n",
                "GROUP BY product_id\n",
                "ORDER BY 'Total Quantity' DESC\n",
                "\n",
                "```"
            ],
            "metadata": {
                "azdata_cell_guid": "1374ab90-0c68-46a2-8841-a8f9ce2f768a"
            },
            "attachments": {}
        },
        {
            "cell_type": "code",
            "source": [
                "SELECT TOP 10 product_id,\r\n",
                "       SUM(quantity) as 'Total Quantity'\r\n",
                "FROM dbo.transactions_fact\r\n",
                "GROUP BY product_id\r\n",
                "ORDER BY 'Total Quantity' DESC"
            ],
            "metadata": {
                "azdata_cell_guid": "0904858d-7280-47de-ae21-71f689495cfb",
                "language": "sql"
            },
            "outputs": [
                {
                    "output_type": "display_data",
                    "data": {
                        "text/html": "(10 rows affected)"
                    },
                    "metadata": {}
                },
                {
                    "output_type": "display_data",
                    "data": {
                        "text/html": "Total execution time: 00:00:00.062"
                    },
                    "metadata": {}
                },
                {
                    "output_type": "execute_result",
                    "metadata": {},
                    "execution_count": 8,
                    "data": {
                        "application/vnd.dataresource+json": {
                            "schema": {
                                "fields": [
                                    {
                                        "name": "product_id"
                                    },
                                    {
                                        "name": "Total Quantity"
                                    }
                                ]
                            },
                            "data": [
                                {
                                    "product_id": "20",
                                    "Total Quantity": "1106"
                                },
                                {
                                    "product_id": "502",
                                    "Total Quantity": "688"
                                },
                                {
                                    "product_id": "426",
                                    "Total Quantity": "688"
                                },
                                {
                                    "product_id": "1380",
                                    "Total Quantity": "685"
                                },
                                {
                                    "product_id": "948",
                                    "Total Quantity": "673"
                                },
                                {
                                    "product_id": "952",
                                    "Total Quantity": "661"
                                },
                                {
                                    "product_id": "915",
                                    "Total Quantity": "654"
                                },
                                {
                                    "product_id": "1428",
                                    "Total Quantity": "651"
                                },
                                {
                                    "product_id": "964",
                                    "Total Quantity": "651"
                                },
                                {
                                    "product_id": "413",
                                    "Total Quantity": "646"
                                }
                            ]
                        },
                        "text/html": [
                            "<table>",
                            "<tr><th>product_id</th><th>Total Quantity</th></tr>",
                            "<tr><td>20</td><td>1106</td></tr>",
                            "<tr><td>502</td><td>688</td></tr>",
                            "<tr><td>426</td><td>688</td></tr>",
                            "<tr><td>1380</td><td>685</td></tr>",
                            "<tr><td>948</td><td>673</td></tr>",
                            "<tr><td>952</td><td>661</td></tr>",
                            "<tr><td>915</td><td>654</td></tr>",
                            "<tr><td>1428</td><td>651</td></tr>",
                            "<tr><td>964</td><td>651</td></tr>",
                            "<tr><td>413</td><td>646</td></tr>",
                            "</table>"
                        ]
                    }
                }
            ],
            "execution_count": 8
        },
        {
            "cell_type": "markdown",
            "source": [
                "💥💥💥💥 Trick 10: Return the LEAST total sales according to product brand AND name.\n",
                "\n",
                "Use Case: The query returns the LEAST total sales for the product brand and name\n",
                "\n",
                "Explanation: Select product\\_brand, product\\_name from product\\_dim table, select total\\_sale as Total Sales from transactions\\_fact table. Use product\\_id to JOIN the two tables. Use SUM function to find SUM(total\\_sale). Use HAVING  SUM(tr.total\\_sale) \\< 400 and ORDER BY 'Total Sales' ASC. \n",
                "\n",
                "```\n",
                "SELECT pro.product_brand 'Product Brand',\n",
                "       pro.product_name 'Product Name',\n",
                "       SUM(tr.total_sale) as 'Total Sales'\n",
                "FROM dbo.products_dim pro\n",
                "INNER JOIN dbo.transactions_fact tr\n",
                "ON pro.product_id = tr.product_id\n",
                "GROUP BY pro.product_brand, product_name\n",
                "HAVING SUM(tr.total_sale) < 400\n",
                "ORDER BY 'Total Sales' ASC\n",
                "```"
            ],
            "metadata": {
                "azdata_cell_guid": "ce0a80e6-8927-4f35-a6a0-42732149bfbf"
            },
            "attachments": {}
        },
        {
            "cell_type": "code",
            "source": [
                "SELECT pro.product_brand 'Product Brand',\r\n",
                "       pro.product_name 'Product Name',\r\n",
                "       SUM(tr.total_sale) as 'Total Sales'\r\n",
                "FROM dbo.products_dim pro\r\n",
                "INNER JOIN dbo.transactions_fact tr\r\n",
                "ON pro.product_id = tr.product_id\r\n",
                "GROUP BY pro.product_brand, product_name\r\n",
                "HAVING SUM(tr.total_sale) < 400\r\n",
                "ORDER BY 'Total Sales' ASC"
            ],
            "metadata": {
                "azdata_cell_guid": "2f893972-b5a1-4814-ab9f-4e1979098293",
                "language": "sql"
            },
            "outputs": [
                {
                    "output_type": "display_data",
                    "data": {
                        "text/html": "(10 rows affected)"
                    },
                    "metadata": {}
                },
                {
                    "output_type": "display_data",
                    "data": {
                        "text/html": "Total execution time: 00:00:00.091"
                    },
                    "metadata": {}
                },
                {
                    "output_type": "execute_result",
                    "metadata": {},
                    "execution_count": 9,
                    "data": {
                        "application/vnd.dataresource+json": {
                            "schema": {
                                "fields": [
                                    {
                                        "name": "Product Brand"
                                    },
                                    {
                                        "name": "Product Name"
                                    },
                                    {
                                        "name": "Total Sales"
                                    }
                                ]
                            },
                            "data": [
                                {
                                    "Product Brand": "Choice",
                                    "Product Name": "Choice Bubble Gum",
                                    "Total Sales": "309.51998019218445"
                                },
                                {
                                    "Product Brand": "Bird Call",
                                    "Product Name": "Bird Call Silky Smooth Hair Conditioner",
                                    "Total Sales": "338.6239825487137"
                                },
                                {
                                    "Product Brand": "Jardon",
                                    "Product Name": "Jardon Spaghetti",
                                    "Total Sales": "366.33600902557373"
                                },
                                {
                                    "Product Brand": "Denny",
                                    "Product Name": "Denny Glass Cleaner",
                                    "Total Sales": "368.83199310302734"
                                },
                                {
                                    "Product Brand": "Top Measure",
                                    "Product Name": "Top Measure Chardonnay Wine",
                                    "Total Sales": "371.19998931884766"
                                },
                                {
                                    "Product Brand": "Denny",
                                    "Product Name": "Denny Copper Cleaner",
                                    "Total Sales": "381.04000520706177"
                                },
                                {
                                    "Product Brand": "Imagine",
                                    "Product Name": "Imagine Home Style French Fries",
                                    "Total Sales": "388.4159927368164"
                                },
                                {
                                    "Product Brand": "Cormorant",
                                    "Product Name": "Cormorant Large Sponge",
                                    "Total Sales": "390.2079793214798"
                                },
                                {
                                    "Product Brand": "Modell",
                                    "Product Name": "Modell Wheat Bread",
                                    "Total Sales": "390.86399269104004"
                                },
                                {
                                    "Product Brand": "PigTail",
                                    "Product Name": "PigTail Low Fat Waffles",
                                    "Total Sales": "390.86399269104004"
                                }
                            ]
                        },
                        "text/html": [
                            "<table>",
                            "<tr><th>Product Brand</th><th>Product Name</th><th>Total Sales</th></tr>",
                            "<tr><td>Choice</td><td>Choice Bubble Gum</td><td>309.51998019218445</td></tr>",
                            "<tr><td>Bird Call</td><td>Bird Call Silky Smooth Hair Conditioner</td><td>338.6239825487137</td></tr>",
                            "<tr><td>Jardon</td><td>Jardon Spaghetti</td><td>366.33600902557373</td></tr>",
                            "<tr><td>Denny</td><td>Denny Glass Cleaner</td><td>368.83199310302734</td></tr>",
                            "<tr><td>Top Measure</td><td>Top Measure Chardonnay Wine</td><td>371.19998931884766</td></tr>",
                            "<tr><td>Denny</td><td>Denny Copper Cleaner</td><td>381.04000520706177</td></tr>",
                            "<tr><td>Imagine</td><td>Imagine Home Style French Fries</td><td>388.4159927368164</td></tr>",
                            "<tr><td>Cormorant</td><td>Cormorant Large Sponge</td><td>390.2079793214798</td></tr>",
                            "<tr><td>Modell</td><td>Modell Wheat Bread</td><td>390.86399269104004</td></tr>",
                            "<tr><td>PigTail</td><td>PigTail Low Fat Waffles</td><td>390.86399269104004</td></tr>",
                            "</table>"
                        ]
                    }
                }
            ],
            "execution_count": 9
        },
        {
            "cell_type": "markdown",
            "source": [
                "💥💥💥💥 Trick 11: Return all Products with sales greater than 3600\n",
                "\n",
                "Use Case: This query is used to identify product sales by specific margin\n",
                "\n",
                "Explanation: By selecting product\\_id, total\\_sale as 'Total Sales' from the transactions\\_fact table, use the SUM function to find the sum of total\\_sale SUM(total\\_sale). HAVING clause then used to limit the query to products with Total Sales \\> 3600. Finally, ORDER BY product\\_id\n",
                "\n",
                "```\n",
                "SELECT product_id,\n",
                "       SUM(total_sale) as 'Total Sales'\n",
                "FROM dbo.transactions_fact \n",
                "GROUP BY product_id\n",
                "HAVING SUM(total_sale) > 3600\n",
                "ORDER BY product_id\n",
                "\n",
                "```"
            ],
            "metadata": {
                "azdata_cell_guid": "5c077f94-59d4-40de-be57-7506c599bcea"
            },
            "attachments": {}
        },
        {
            "cell_type": "code",
            "source": [
                "SELECT product_id,\r\n",
                "       SUM(total_sale) as 'Total Sales'\r\n",
                "FROM dbo.transactions_fact \r\n",
                "GROUP BY product_id\r\n",
                "HAVING SUM(total_sale) > 3600\r\n",
                "ORDER BY product_id"
            ],
            "metadata": {
                "azdata_cell_guid": "5cd264b9-b887-4f7f-93d2-eac462da08be",
                "language": "sql"
            },
            "outputs": [
                {
                    "output_type": "display_data",
                    "data": {
                        "text/html": "(8 rows affected)"
                    },
                    "metadata": {}
                },
                {
                    "output_type": "display_data",
                    "data": {
                        "text/html": "Total execution time: 00:00:00.069"
                    },
                    "metadata": {}
                },
                {
                    "output_type": "execute_result",
                    "metadata": {},
                    "execution_count": 10,
                    "data": {
                        "application/vnd.dataresource+json": {
                            "schema": {
                                "fields": [
                                    {
                                        "name": "product_id"
                                    },
                                    {
                                        "name": "Total Sales"
                                    }
                                ]
                            },
                            "data": [
                                {
                                    "product_id": "362",
                                    "Total Sales": "3893.776065826416"
                                },
                                {
                                    "product_id": "446",
                                    "Total Sales": "3606"
                                },
                                {
                                    "product_id": "519",
                                    "Total Sales": "3685.535991668701"
                                },
                                {
                                    "product_id": "712",
                                    "Total Sales": "3622.319944381714"
                                },
                                {
                                    "product_id": "941",
                                    "Total Sales": "3709.8400955200195"
                                },
                                {
                                    "product_id": "975",
                                    "Total Sales": "3735.935947418213"
                                },
                                {
                                    "product_id": "1380",
                                    "Total Sales": "3967.519874572754"
                                },
                                {
                                    "product_id": "1428",
                                    "Total Sales": "4020.5758571624756"
                                }
                            ]
                        },
                        "text/html": [
                            "<table>",
                            "<tr><th>product_id</th><th>Total Sales</th></tr>",
                            "<tr><td>362</td><td>3893.776065826416</td></tr>",
                            "<tr><td>446</td><td>3606</td></tr>",
                            "<tr><td>519</td><td>3685.535991668701</td></tr>",
                            "<tr><td>712</td><td>3622.319944381714</td></tr>",
                            "<tr><td>941</td><td>3709.8400955200195</td></tr>",
                            "<tr><td>975</td><td>3735.935947418213</td></tr>",
                            "<tr><td>1380</td><td>3967.519874572754</td></tr>",
                            "<tr><td>1428</td><td>4020.5758571624756</td></tr>",
                            "</table>"
                        ]
                    }
                }
            ],
            "execution_count": 10
        },
        {
            "cell_type": "markdown",
            "source": [
                "💥💥💥💥Trick 12: Return the number of transactions for each city\n",
                "\n",
                "Use Case: The query helps to report the number of transactions for each store location or city.\n",
                "\n",
                "Explanation: INNER JOIN clause is used to join cities\\_dim and transactions\\_fact tables together. The COUNT(product\\_id) as 'Transaction Count'. GROUP BY clause is then used to group the query by store\\_city and then ORDER BY 'Transaction Count' DESC.\n",
                "\n",
                "```\n",
                "SELECT cy.store_city,\n",
                "       COUNT(tr.product_id) as 'Transaction Count'\n",
                "FROM dbo.cities_dim cy\n",
                "INNER JOIN dbo.transactions_fact tr\n",
                "ON cy.city_id = tr.city_id\n",
                "GROUP BY cy.store_city\n",
                "ORDER BY 'Transaction Count' DESC\n",
                "```"
            ],
            "metadata": {
                "azdata_cell_guid": "81ad85c7-fe27-470e-af4b-c4be8b55d538"
            },
            "attachments": {}
        },
        {
            "cell_type": "code",
            "source": [
                "SELECT cy.store_city,\r\n",
                "       COUNT(tr.product_id) as 'Transaction Count'\r\n",
                "FROM dbo.cities_dim cy\r\n",
                "INNER JOIN dbo.transactions_fact tr\r\n",
                "ON cy.city_id = tr.city_id\r\n",
                "GROUP BY cy.store_city\r\n",
                "ORDER BY 'Transaction Count' DESC"
            ],
            "metadata": {
                "azdata_cell_guid": "93db3f70-7511-43cb-b81a-93c87c50ee7d",
                "language": "sql"
            },
            "outputs": [
                {
                    "output_type": "display_data",
                    "data": {
                        "text/html": "(15 rows affected)"
                    },
                    "metadata": {}
                },
                {
                    "output_type": "display_data",
                    "data": {
                        "text/html": "Total execution time: 00:00:00.054"
                    },
                    "metadata": {}
                },
                {
                    "output_type": "execute_result",
                    "metadata": {},
                    "execution_count": 11,
                    "data": {
                        "application/vnd.dataresource+json": {
                            "schema": {
                                "fields": [
                                    {
                                        "name": "store_city"
                                    },
                                    {
                                        "name": "Transaction Count"
                                    }
                                ]
                            },
                            "data": [
                                {
                                    "store_city": "Salem",
                                    "Transaction Count": "25829"
                                },
                                {
                                    "store_city": "Tacoma",
                                    "Transaction Count": "23573"
                                },
                                {
                                    "store_city": "Seattle",
                                    "Transaction Count": "17427"
                                },
                                {
                                    "store_city": "Portland",
                                    "Transaction Count": "17262"
                                },
                                {
                                    "store_city": "Los Angeles",
                                    "Transaction Count": "16704"
                                },
                                {
                                    "store_city": "Bremerton",
                                    "Transaction Count": "16582"
                                },
                                {
                                    "store_city": "San Diego",
                                    "Transaction Count": "16533"
                                },
                                {
                                    "store_city": "Spokane",
                                    "Transaction Count": "16500"
                                },
                                {
                                    "store_city": "Beverly Hills",
                                    "Transaction Count": "14762"
                                },
                                {
                                    "store_city": "Vancouver",
                                    "Transaction Count": "12752"
                                },
                                {
                                    "store_city": "Yakima",
                                    "Transaction Count": "7096"
                                },
                                {
                                    "store_city": "Victoria",
                                    "Transaction Count": "3318"
                                },
                                {
                                    "store_city": "Walla Walla",
                                    "Transaction Count": "2813"
                                },
                                {
                                    "store_city": "Bellingham",
                                    "Transaction Count": "2768"
                                },
                                {
                                    "store_city": "San Francisco",
                                    "Transaction Count": "2763"
                                }
                            ]
                        },
                        "text/html": [
                            "<table>",
                            "<tr><th>store_city</th><th>Transaction Count</th></tr>",
                            "<tr><td>Salem</td><td>25829</td></tr>",
                            "<tr><td>Tacoma</td><td>23573</td></tr>",
                            "<tr><td>Seattle</td><td>17427</td></tr>",
                            "<tr><td>Portland</td><td>17262</td></tr>",
                            "<tr><td>Los Angeles</td><td>16704</td></tr>",
                            "<tr><td>Bremerton</td><td>16582</td></tr>",
                            "<tr><td>San Diego</td><td>16533</td></tr>",
                            "<tr><td>Spokane</td><td>16500</td></tr>",
                            "<tr><td>Beverly Hills</td><td>14762</td></tr>",
                            "<tr><td>Vancouver</td><td>12752</td></tr>",
                            "<tr><td>Yakima</td><td>7096</td></tr>",
                            "<tr><td>Victoria</td><td>3318</td></tr>",
                            "<tr><td>Walla Walla</td><td>2813</td></tr>",
                            "<tr><td>Bellingham</td><td>2768</td></tr>",
                            "<tr><td>San Francisco</td><td>2763</td></tr>",
                            "</table>"
                        ]
                    }
                }
            ],
            "execution_count": 11
        },
        {
            "cell_type": "markdown",
            "source": [
                "💥💥💥💥Trick 13: Return the Product with the highest number of sales.\n",
                "\n",
                "Use Case: By reporting on the product with the highest number of sales, you need to use the following query.\n",
                "\n",
                "Explanation: Use LEFT JOIN clause to join the transactions\\_fact and products\\_dim tables together. The connection is done through product\\_id. SUM(total\\_sales) as 'Total Sales' from the transactions\\_fact table. GROUP BY product\\_name from the products\\_dim table. ORDER BY 'Total Sales' DESC\n",
                "\n",
                "```\n",
                "SELECT TOP 1 pro.product_name,\n",
                "       SUM(tr.total_sale) as 'Total Sales'\n",
                "FROM dbo.transactions_fact tr\n",
                "LEFT JOIN dbo.products_dim pro\n",
                "ON pro.product_id = tr.product_id\n",
                "GROUP BY product_name\n",
                "ORDER BY 'Total Sales' DESC\n",
                "\n",
                "```"
            ],
            "metadata": {
                "azdata_cell_guid": "5963b61b-49db-4b36-ae52-41d7c5a63fb6"
            },
            "attachments": {}
        },
        {
            "cell_type": "code",
            "source": [
                "SELECT TOP 1 pro.product_name,\r\n",
                "       SUM(tr.total_sale) as 'Total Sales'\r\n",
                "FROM dbo.transactions_fact tr\r\n",
                "LEFT JOIN dbo.products_dim pro\r\n",
                "ON pro.product_id = tr.product_id\r\n",
                "GROUP BY product_name\r\n",
                "ORDER BY 'Total Sales' DESC"
            ],
            "metadata": {
                "azdata_cell_guid": "e3cac8a5-6f3b-45f4-8134-3d0369e46a46",
                "language": "sql"
            },
            "outputs": [
                {
                    "output_type": "display_data",
                    "data": {
                        "text/html": "(1 row affected)"
                    },
                    "metadata": {}
                },
                {
                    "output_type": "display_data",
                    "data": {
                        "text/html": "Total execution time: 00:00:00.099"
                    },
                    "metadata": {}
                },
                {
                    "output_type": "execute_result",
                    "metadata": {},
                    "execution_count": 12,
                    "data": {
                        "application/vnd.dataresource+json": {
                            "schema": {
                                "fields": [
                                    {
                                        "name": "product_name"
                                    },
                                    {
                                        "name": "Total Sales"
                                    }
                                ]
                            },
                            "data": [
                                {
                                    "product_name": "Hermanos Green Pepper",
                                    "Total Sales": "4020.5758571624756"
                                }
                            ]
                        },
                        "text/html": [
                            "<table>",
                            "<tr><th>product_name</th><th>Total Sales</th></tr>",
                            "<tr><td>Hermanos Green Pepper</td><td>4020.5758571624756</td></tr>",
                            "</table>"
                        ]
                    }
                }
            ],
            "execution_count": 12
        },
        {
            "cell_type": "markdown",
            "source": [
                "💥💥💥💥Trick 14: Report on the total sales and average days to ship according to city \n",
                "\n",
                "Use Case: This query helps to report on total sales and average days to ship products by city.\n",
                "\n",
                "Explanation: Use INNER JOIN clause to join cities\\_dim and transactions\\_fact tables together. Use avg(days\\_to\\_ship) as 'Average Days to Ship,' SUM( total\\_sale) as 'Total Sales'. GROUP BY store\\_city and ORDER BY 'Total Sales' DESC\n",
                "\n",
                "```\n",
                "SELECT cy.store_city,\n",
                "       avg(tr.days_to_ship) as 'Average Days to Ship',\n",
                "       SUM(tr.total_sale) as 'Total Sales'\t   \n",
                "FROM dbo.cities_dim cy\n",
                "INNER JOIN dbo.transactions_fact tr\n",
                "ON cy.city_id = tr.city_id\n",
                "GROUP BY cy.store_city\n",
                "ORDER BY 'Total Sales' DESC\n",
                "```"
            ],
            "metadata": {
                "azdata_cell_guid": "2f25d1f9-09dd-4275-be91-5cc9c0265dfa"
            },
            "attachments": {}
        },
        {
            "cell_type": "code",
            "source": [
                "SELECT cy.store_city,\r\n",
                "       avg(tr.days_to_ship) as 'Average Days to Ship',\r\n",
                "       SUM(tr.total_sale) as 'Total Sales'\t   \r\n",
                "FROM dbo.cities_dim cy\r\n",
                "INNER JOIN dbo.transactions_fact tr\r\n",
                "ON cy.city_id = tr.city_id\r\n",
                "GROUP BY cy.store_city\r\n",
                "ORDER BY 'Total Sales' DESC"
            ],
            "metadata": {
                "azdata_cell_guid": "505b901b-7e54-4182-9ef8-328854bf170a",
                "language": "sql"
            },
            "outputs": [
                {
                    "output_type": "display_data",
                    "data": {
                        "text/html": "(15 rows affected)"
                    },
                    "metadata": {}
                },
                {
                    "output_type": "display_data",
                    "data": {
                        "text/html": "Total execution time: 00:00:00.094"
                    },
                    "metadata": {}
                },
                {
                    "output_type": "execute_result",
                    "metadata": {},
                    "execution_count": 13,
                    "data": {
                        "application/vnd.dataresource+json": {
                            "schema": {
                                "fields": [
                                    {
                                        "name": "store_city"
                                    },
                                    {
                                        "name": "Average Days to Ship"
                                    },
                                    {
                                        "name": "Total Sales"
                                    }
                                ]
                            },
                            "data": [
                                {
                                    "store_city": "Salem",
                                    "Average Days to Ship": "5",
                                    "Total Sales": "359772.6567313671"
                                },
                                {
                                    "store_city": "Tacoma",
                                    "Average Days to Ship": "5",
                                    "Total Sales": "332230.80072283745"
                                },
                                {
                                    "store_city": "Seattle",
                                    "Average Days to Ship": "5",
                                    "Total Sales": "244510.1284675598"
                                },
                                {
                                    "store_city": "Portland",
                                    "Average Days to Ship": "5",
                                    "Total Sales": "242800.89653372765"
                                },
                                {
                                    "store_city": "Los Angeles",
                                    "Average Days to Ship": "5",
                                    "Total Sales": "234786.0483932495"
                                },
                                {
                                    "store_city": "San Diego",
                                    "Average Days to Ship": "5",
                                    "Total Sales": "234326.0644943714"
                                },
                                {
                                    "store_city": "Bremerton",
                                    "Average Days to Ship": "5",
                                    "Total Sales": "233966.20850372314"
                                },
                                {
                                    "store_city": "Spokane",
                                    "Average Days to Ship": "5",
                                    "Total Sales": "232354.44847083092"
                                },
                                {
                                    "store_city": "Beverly Hills",
                                    "Average Days to Ship": "5",
                                    "Total Sales": "207129.8722987175"
                                },
                                {
                                    "store_city": "Vancouver",
                                    "Average Days to Ship": "5",
                                    "Total Sales": "179666.68842840195"
                                },
                                {
                                    "store_city": "Yakima",
                                    "Average Days to Ship": "5",
                                    "Total Sales": "100269.1042432785"
                                },
                                {
                                    "store_city": "Victoria",
                                    "Average Days to Ship": "5",
                                    "Total Sales": "47109.040068387985"
                                },
                                {
                                    "store_city": "Walla Walla",
                                    "Average Days to Ship": "5",
                                    "Total Sales": "25535.840068221092"
                                },
                                {
                                    "store_city": "Bellingham",
                                    "Average Days to Ship": "5",
                                    "Total Sales": "24578.400082707405"
                                },
                                {
                                    "store_city": "San Francisco",
                                    "Average Days to Ship": "5",
                                    "Total Sales": "24196.78405368328"
                                }
                            ]
                        },
                        "text/html": [
                            "<table>",
                            "<tr><th>store_city</th><th>Average Days to Ship</th><th>Total Sales</th></tr>",
                            "<tr><td>Salem</td><td>5</td><td>359772.6567313671</td></tr>",
                            "<tr><td>Tacoma</td><td>5</td><td>332230.80072283745</td></tr>",
                            "<tr><td>Seattle</td><td>5</td><td>244510.1284675598</td></tr>",
                            "<tr><td>Portland</td><td>5</td><td>242800.89653372765</td></tr>",
                            "<tr><td>Los Angeles</td><td>5</td><td>234786.0483932495</td></tr>",
                            "<tr><td>San Diego</td><td>5</td><td>234326.0644943714</td></tr>",
                            "<tr><td>Bremerton</td><td>5</td><td>233966.20850372314</td></tr>",
                            "<tr><td>Spokane</td><td>5</td><td>232354.44847083092</td></tr>",
                            "<tr><td>Beverly Hills</td><td>5</td><td>207129.8722987175</td></tr>",
                            "<tr><td>Vancouver</td><td>5</td><td>179666.68842840195</td></tr>",
                            "<tr><td>Yakima</td><td>5</td><td>100269.1042432785</td></tr>",
                            "<tr><td>Victoria</td><td>5</td><td>47109.040068387985</td></tr>",
                            "<tr><td>Walla Walla</td><td>5</td><td>25535.840068221092</td></tr>",
                            "<tr><td>Bellingham</td><td>5</td><td>24578.400082707405</td></tr>",
                            "<tr><td>San Francisco</td><td>5</td><td>24196.78405368328</td></tr>",
                            "</table>"
                        ]
                    }
                }
            ],
            "execution_count": 13
        },
        {
            "cell_type": "markdown",
            "source": [
                "💥💥💥💥Trick 15: Return Total Sales according to Product and Month \n",
                "\n",
                "Use Case: To know the total sales for each month, the query below will do the magic for you.\n",
                "\n",
                "Explanation:  Select product\\_name as 'Product Name' from the product\\_dim table and transaction\\_month as 'Transaction Month' from the transactions\\_fact table. Use product\\_id to JOIN the two tables. Use the SUM function to find SUM(total\\_sale). GROUP BY product\\_name and transaction\\_month. Use HAVING  SUM(total\\_sale) \\< 10 and ORDER BY 'Total Sales' DESC.\n",
                "\n",
                "```\n",
                "SELECT pro.product_name as 'Product Name',\n",
                "       tr.transaction_month as 'Transaction Month',\n",
                "       SUM(tr.total_sale) as 'Total Sales'\n",
                "FROM dbo.products_dim pro\n",
                "    JOIN dbo.transactions_fact tr\n",
                "    ON pro.product_id = tr.product_id\n",
                "GROUP BY pro.product_name, tr.transaction_month\n",
                "HAVING SUM(tr.total_sale) < 10\n",
                "ORDER BY 'Total Sales' DESC\n",
                "\n",
                "```"
            ],
            "metadata": {
                "azdata_cell_guid": "78a4f813-aff2-45eb-b7c0-bd71ab233185"
            },
            "attachments": {}
        },
        {
            "cell_type": "code",
            "source": [
                "SELECT pro.product_name as 'Product Name',\r\n",
                "       tr.transaction_month as 'Transaction Month',\r\n",
                "\t   SUM(tr.total_sale) as 'Total Sales'\r\n",
                "FROM dbo.products_dim pro\r\n",
                "\tJOIN dbo.transactions_fact tr\r\n",
                "\tON pro.product_id = tr.product_id\r\n",
                "GROUP BY pro.product_name, tr.transaction_month\r\n",
                "HAVING SUM(tr.total_sale) < 10\r\n",
                "ORDER BY 'Total Sales' DESC"
            ],
            "metadata": {
                "azdata_cell_guid": "d780c8b6-a387-4421-8ca9-132b342e5662",
                "language": "sql"
            },
            "outputs": [
                {
                    "output_type": "display_data",
                    "data": {
                        "text/html": "(7 rows affected)"
                    },
                    "metadata": {}
                },
                {
                    "output_type": "display_data",
                    "data": {
                        "text/html": "Total execution time: 00:00:00.141"
                    },
                    "metadata": {}
                },
                {
                    "output_type": "execute_result",
                    "metadata": {},
                    "execution_count": 14,
                    "data": {
                        "application/vnd.dataresource+json": {
                            "schema": {
                                "fields": [
                                    {
                                        "name": "Product Name"
                                    },
                                    {
                                        "name": "Transaction Month"
                                    },
                                    {
                                        "name": "Total Sales"
                                    }
                                ]
                            },
                            "data": [
                                {
                                    "Product Name": "Bird Call Silky Smooth Hair Conditioner",
                                    "Transaction Month": "September",
                                    "Total Sales": "9.983999371528625"
                                },
                                {
                                    "Product Name": "Landslide Strawberry Jelly",
                                    "Transaction Month": "January",
                                    "Total Sales": "9.79200029373169"
                                },
                                {
                                    "Product Name": "Cormorant Large Sponge",
                                    "Transaction Month": "October",
                                    "Total Sales": "9.151999473571777"
                                },
                                {
                                    "Product Name": "CDR Apple Preserves",
                                    "Transaction Month": "June",
                                    "Total Sales": "7.776000022888184"
                                },
                                {
                                    "Product Name": "Top Measure Chardonnay Wine",
                                    "Transaction Month": "October",
                                    "Total Sales": "7.423999786376953"
                                },
                                {
                                    "Product Name": "PigTail Grape Popsicles",
                                    "Transaction Month": "October",
                                    "Total Sales": "7.104000091552734"
                                },
                                {
                                    "Product Name": "Denny Glass Cleaner",
                                    "Transaction Month": "October",
                                    "Total Sales": "4.895999908447266"
                                }
                            ]
                        },
                        "text/html": [
                            "<table>",
                            "<tr><th>Product Name</th><th>Transaction Month</th><th>Total Sales</th></tr>",
                            "<tr><td>Bird Call Silky Smooth Hair Conditioner</td><td>September</td><td>9.983999371528625</td></tr>",
                            "<tr><td>Landslide Strawberry Jelly</td><td>January</td><td>9.79200029373169</td></tr>",
                            "<tr><td>Cormorant Large Sponge</td><td>October</td><td>9.151999473571777</td></tr>",
                            "<tr><td>CDR Apple Preserves</td><td>June</td><td>7.776000022888184</td></tr>",
                            "<tr><td>Top Measure Chardonnay Wine</td><td>October</td><td>7.423999786376953</td></tr>",
                            "<tr><td>PigTail Grape Popsicles</td><td>October</td><td>7.104000091552734</td></tr>",
                            "<tr><td>Denny Glass Cleaner</td><td>October</td><td>4.895999908447266</td></tr>",
                            "</table>"
                        ]
                    }
                }
            ],
            "execution_count": 14
        },
        {
            "cell_type": "markdown",
            "source": [
                "💥💥💥💥Trick 16: Return the last transaction date for products with product\\_id less than 10 \n",
                "\n",
                "Use Case: To r<span style=\"color: var(--vscode-foreground);\">eturn the last transaction date for products with product_id less specific range.</span>\n",
                "\n",
                "<span style=\"color: var(--vscode-foreground);\">Explanation: SELECT product_id and MA(transaction_date) as 'Last Transaction' FROM transactions_fact table. Use WHERE clause and limit product_id &lt; 10. GROUP BY product_id</span>\n",
                "\n",
                "<span style=\"color: var(--vscode-foreground);\"><br></span>\n",
                "\n",
                "```\n",
                "SELECT product_id,\n",
                "       MAX(transaction_date) as 'Last Transaction'\n",
                "FROM dbo.transactions_fact\n",
                "WHERE product_id < 10\n",
                "GROUP BY product_id\n",
                "ORDER BY product_id  \n",
                "```\n",
                "\n",
                "<span style=\"color: var(--vscode-foreground);\"><br></span>"
            ],
            "metadata": {
                "azdata_cell_guid": "0dfe4bc6-11bd-4926-a36a-9dbf6051f6e6"
            },
            "attachments": {}
        },
        {
            "cell_type": "code",
            "source": [
                "SELECT product_id,\r\n",
                "       MAX(transaction_date) as 'Last Transaction'\r\n",
                "FROM dbo.transactions_fact\r\n",
                "WHERE product_id < 10\r\n",
                "GROUP BY product_id\r\n",
                "ORDER BY product_id "
            ],
            "metadata": {
                "azdata_cell_guid": "5be3a850-5578-4eeb-a417-60c5c22d5dd7",
                "language": "sql"
            },
            "outputs": [
                {
                    "output_type": "display_data",
                    "data": {
                        "text/html": "(9 rows affected)"
                    },
                    "metadata": {}
                },
                {
                    "output_type": "display_data",
                    "data": {
                        "text/html": "Total execution time: 00:00:00.061"
                    },
                    "metadata": {}
                },
                {
                    "output_type": "execute_result",
                    "metadata": {},
                    "execution_count": 15,
                    "data": {
                        "application/vnd.dataresource+json": {
                            "schema": {
                                "fields": [
                                    {
                                        "name": "product_id"
                                    },
                                    {
                                        "name": "Last Transaction"
                                    }
                                ]
                            },
                            "data": [
                                {
                                    "product_id": "1",
                                    "Last Transaction": "2023-12-06"
                                },
                                {
                                    "product_id": "2",
                                    "Last Transaction": "2023-12-29"
                                },
                                {
                                    "product_id": "3",
                                    "Last Transaction": "2023-12-23"
                                },
                                {
                                    "product_id": "4",
                                    "Last Transaction": "2023-12-30"
                                },
                                {
                                    "product_id": "5",
                                    "Last Transaction": "2023-12-23"
                                },
                                {
                                    "product_id": "6",
                                    "Last Transaction": "2023-12-19"
                                },
                                {
                                    "product_id": "7",
                                    "Last Transaction": "2023-12-27"
                                },
                                {
                                    "product_id": "8",
                                    "Last Transaction": "2023-12-27"
                                },
                                {
                                    "product_id": "9",
                                    "Last Transaction": "2023-12-23"
                                }
                            ]
                        },
                        "text/html": [
                            "<table>",
                            "<tr><th>product_id</th><th>Last Transaction</th></tr>",
                            "<tr><td>1</td><td>2023-12-06</td></tr>",
                            "<tr><td>2</td><td>2023-12-29</td></tr>",
                            "<tr><td>3</td><td>2023-12-23</td></tr>",
                            "<tr><td>4</td><td>2023-12-30</td></tr>",
                            "<tr><td>5</td><td>2023-12-23</td></tr>",
                            "<tr><td>6</td><td>2023-12-19</td></tr>",
                            "<tr><td>7</td><td>2023-12-27</td></tr>",
                            "<tr><td>8</td><td>2023-12-27</td></tr>",
                            "<tr><td>9</td><td>2023-12-23</td></tr>",
                            "</table>"
                        ]
                    }
                }
            ],
            "execution_count": 15
        },
        {
            "cell_type": "markdown",
            "source": [
                "💥💥💥💥Trick 17: Return products that had sales in cities in a specific country\n",
                "\n",
                "Use Case: To r<span style=\"color: var(--vscode-foreground);\">eturn products that had sales in cities in a specific country.</span>\n",
                "\n",
                "<span style=\"color: var(--vscode-foreground);\">Explanation: Three different tables are needed for this query. product_id and product_name from products_dim table. Use INNER JOIN clause to join the products_dim and transactions_fact tables together. And INNER JOIN transactions_fact and cities_dim tables together. Use WHERE clause LIKE to limit the search with product_name that start with 'U%'. ORDER BY product_id DESC.</span>\n",
                "\n",
                "```\n",
                "SELECT pro.product_id,\n",
                "       pro.product_name\n",
                "FROM dbo.products_dim pro\n",
                "\t\tJOIN dbo.transactions_fact tr\n",
                "\t\tON pro.product_id = tr.product_id\n",
                "\t\tJOIN dbo.cities_dim cy\n",
                "\t\tON tr.city_id = cy.city_id\n",
                "WHERE product_name LIKE 'U%'\n",
                "ORDER BY product_id DESC\n",
                "```"
            ],
            "metadata": {
                "azdata_cell_guid": "e35dd2bb-d9a9-49cf-af50-2ae8b6f13692"
            },
            "attachments": {}
        },
        {
            "cell_type": "code",
            "source": [
                "SELECT TOP 10 pro.product_id,\r\n",
                "       pro.product_name\r\n",
                "FROM dbo.products_dim pro\r\n",
                "\t\tJOIN dbo.transactions_fact tr\r\n",
                "\t\tON pro.product_id = tr.product_id\r\n",
                "\t\tJOIN dbo.cities_dim cy\r\n",
                "\t\tON tr.city_id = cy.city_id\r\n",
                "WHERE product_name LIKE 'U%'\r\n",
                "ORDER BY product_id DESC"
            ],
            "metadata": {
                "azdata_cell_guid": "4ea4cb8b-6d95-4310-929e-726b14d982a6",
                "language": "sql"
            },
            "outputs": [
                {
                    "output_type": "display_data",
                    "data": {
                        "text/html": "(10 rows affected)"
                    },
                    "metadata": {}
                },
                {
                    "output_type": "display_data",
                    "data": {
                        "text/html": "Total execution time: 00:00:00.060"
                    },
                    "metadata": {}
                },
                {
                    "output_type": "execute_result",
                    "metadata": {},
                    "execution_count": 17,
                    "data": {
                        "application/vnd.dataresource+json": {
                            "schema": {
                                "fields": [
                                    {
                                        "name": "product_id"
                                    },
                                    {
                                        "name": "product_name"
                                    }
                                ]
                            },
                            "data": [
                                {
                                    "product_id": "392",
                                    "product_name": "Urban Egg Substitute"
                                },
                                {
                                    "product_id": "392",
                                    "product_name": "Urban Egg Substitute"
                                },
                                {
                                    "product_id": "392",
                                    "product_name": "Urban Egg Substitute"
                                },
                                {
                                    "product_id": "392",
                                    "product_name": "Urban Egg Substitute"
                                },
                                {
                                    "product_id": "392",
                                    "product_name": "Urban Egg Substitute"
                                },
                                {
                                    "product_id": "392",
                                    "product_name": "Urban Egg Substitute"
                                },
                                {
                                    "product_id": "392",
                                    "product_name": "Urban Egg Substitute"
                                },
                                {
                                    "product_id": "392",
                                    "product_name": "Urban Egg Substitute"
                                },
                                {
                                    "product_id": "392",
                                    "product_name": "Urban Egg Substitute"
                                },
                                {
                                    "product_id": "392",
                                    "product_name": "Urban Egg Substitute"
                                }
                            ]
                        },
                        "text/html": [
                            "<table>",
                            "<tr><th>product_id</th><th>product_name</th></tr>",
                            "<tr><td>392</td><td>Urban Egg Substitute</td></tr>",
                            "<tr><td>392</td><td>Urban Egg Substitute</td></tr>",
                            "<tr><td>392</td><td>Urban Egg Substitute</td></tr>",
                            "<tr><td>392</td><td>Urban Egg Substitute</td></tr>",
                            "<tr><td>392</td><td>Urban Egg Substitute</td></tr>",
                            "<tr><td>392</td><td>Urban Egg Substitute</td></tr>",
                            "<tr><td>392</td><td>Urban Egg Substitute</td></tr>",
                            "<tr><td>392</td><td>Urban Egg Substitute</td></tr>",
                            "<tr><td>392</td><td>Urban Egg Substitute</td></tr>",
                            "<tr><td>392</td><td>Urban Egg Substitute</td></tr>",
                            "</table>"
                        ]
                    }
                }
            ],
            "execution_count": 17
        },
        {
            "cell_type": "markdown",
            "source": [
                "💥💥💥💥Trick 18: Return Products with sales data from the past year\n",
                "\n",
                "Use Case: To return Products with sales data from the past year\n",
                "\n",
                "Explanation: Select product\\_name and total\\_sale as 'Total Sales' from products\\_dim and transactions\\_fact tables, respectively, through INNER JOIN. Use SUM(total\\_sale), WHERE transaction\\_date \\>= DATEADD(YEAR, -1, GETDATE()). GROUP BY product\\_name ORDER BY 'Total Sales' DESC\n",
                "\n",
                "```\n",
                "SELECT TOP 10 pro.product_name as 'Product Name',\n",
                "\t   SUM(tr.total_sale) as 'Total Sales'\n",
                "FROM dbo.products_dim pro\n",
                "JOIN dbo.transactions_fact tr\n",
                "ON pro.product_id = tr.product_id\n",
                "WHERE tr.transaction_date >= DATEADD(YEAR, -1, GETDATE())\n",
                "GROUP BY pro.product_name\n",
                "ORDER BY 'Total Sales' DESC\n",
                "```"
            ],
            "metadata": {
                "azdata_cell_guid": "29272ed3-8d34-47a2-be76-8daf9537b75c"
            },
            "attachments": {}
        },
        {
            "cell_type": "code",
            "source": [
                "SELECT TOP 10 pro.product_name as 'Product Name',\r\n",
                "\t   SUM(tr.total_sale) as 'Total Sales'\r\n",
                "FROM dbo.products_dim pro\r\n",
                "JOIN dbo.transactions_fact tr\r\n",
                "ON pro.product_id = tr.product_id\r\n",
                "WHERE tr.transaction_date >= DATEADD(YEAR, -1, GETDATE())\r\n",
                "GROUP BY pro.product_name\r\n",
                "ORDER BY 'Total Sales' DESC"
            ],
            "metadata": {
                "azdata_cell_guid": "7ca4d5e8-c53a-4018-a39b-32c1dc0d5353",
                "language": "sql"
            },
            "outputs": [
                {
                    "output_type": "display_data",
                    "data": {
                        "text/html": "(10 rows affected)"
                    },
                    "metadata": {}
                },
                {
                    "output_type": "display_data",
                    "data": {
                        "text/html": "Total execution time: 00:00:00.076"
                    },
                    "metadata": {}
                },
                {
                    "output_type": "execute_result",
                    "metadata": {},
                    "execution_count": 18,
                    "data": {
                        "application/vnd.dataresource+json": {
                            "schema": {
                                "fields": [
                                    {
                                        "name": "Product Name"
                                    },
                                    {
                                        "name": "Total Sales"
                                    }
                                ]
                            },
                            "data": [
                                {
                                    "Product Name": "Even Better Havarti Cheese",
                                    "Total Sales": "618.0319900512695"
                                },
                                {
                                    "Product Name": "Golden Orange Popsicles",
                                    "Total Sales": "602.1760177612305"
                                },
                                {
                                    "Product Name": "Booker Low Fat Cottage Cheese",
                                    "Total Sales": "596.735990524292"
                                },
                                {
                                    "Product Name": "Hilltop 200 MG Ibuprofen",
                                    "Total Sales": "575.9999723434448"
                                },
                                {
                                    "Product Name": "Good White Zinfandel Wine",
                                    "Total Sales": "575.5520038604736"
                                },
                                {
                                    "Product Name": "Imagine Waffles",
                                    "Total Sales": "551.0879898071289"
                                },
                                {
                                    "Product Name": "Nationeel Potato Chips",
                                    "Total Sales": "546.8159923553467"
                                },
                                {
                                    "Product Name": "Tri-State Red Pepper",
                                    "Total Sales": "544.895993232727"
                                },
                                {
                                    "Product Name": "PigTail Frozen Chicken Wings",
                                    "Total Sales": "540.768009185791"
                                },
                                {
                                    "Product Name": "Tell Tale Fresh Lima Beans",
                                    "Total Sales": "522.4160089492798"
                                }
                            ]
                        },
                        "text/html": [
                            "<table>",
                            "<tr><th>Product Name</th><th>Total Sales</th></tr>",
                            "<tr><td>Even Better Havarti Cheese</td><td>618.0319900512695</td></tr>",
                            "<tr><td>Golden Orange Popsicles</td><td>602.1760177612305</td></tr>",
                            "<tr><td>Booker Low Fat Cottage Cheese</td><td>596.735990524292</td></tr>",
                            "<tr><td>Hilltop 200 MG Ibuprofen</td><td>575.9999723434448</td></tr>",
                            "<tr><td>Good White Zinfandel Wine</td><td>575.5520038604736</td></tr>",
                            "<tr><td>Imagine Waffles</td><td>551.0879898071289</td></tr>",
                            "<tr><td>Nationeel Potato Chips</td><td>546.8159923553467</td></tr>",
                            "<tr><td>Tri-State Red Pepper</td><td>544.895993232727</td></tr>",
                            "<tr><td>PigTail Frozen Chicken Wings</td><td>540.768009185791</td></tr>",
                            "<tr><td>Tell Tale Fresh Lima Beans</td><td>522.4160089492798</td></tr>",
                            "</table>"
                        ]
                    }
                }
            ],
            "execution_count": 18
        },
        {
            "cell_type": "markdown",
            "source": [
                "💥💥💥💥Trick 19: Return the TOP 10 Product brand according to sales \n",
                "\n",
                "Use Case: To r<span style=\"color: var(--vscode-foreground);\">eturn the TOP 10 Product brand according to sales&nbsp;</span> \n",
                "\n",
                "Explanation: SELECT product\\_brand and quantity from the products\\_dim and transactions\\_fact tables. SUM(quantity) as 'Total Quantity'. INNER JOIN the two tables with product\\_id. GROUP BY prodcut\\_brand and ORDER BY 'Total Quantity' DESC\n",
                "\n",
                "```\n",
                "SELECT TOP 10 pro.product_brand,\n",
                "       SUM(tr.quantity) as 'Total Quantity'\n",
                "FROM dbo.products_dim pro\n",
                "JOIN transactions_fact tr\n",
                "ON pro.product_id = tr.product_id\n",
                "GROUP BY pro.product_brand\n",
                "ORDER BY 'Total Quantity' DESC\n",
                "\n",
                "```"
            ],
            "metadata": {
                "azdata_cell_guid": "9fbd24ce-4a57-4373-810a-82f2b6dc5c88"
            },
            "attachments": {}
        },
        {
            "cell_type": "code",
            "source": [
                "SELECT TOP 10 pro.product_brand,\r\n",
                "       SUM(tr.quantity) as 'Total Quantity'\r\n",
                "FROM dbo.products_dim pro\r\n",
                "JOIN transactions_fact tr\r\n",
                "ON pro.product_id = tr.product_id\r\n",
                "GROUP BY pro.product_brand\r\n",
                "ORDER BY 'Total Quantity' DESC"
            ],
            "metadata": {
                "azdata_cell_guid": "c18c2c9e-4c1f-4cd7-917a-f6ce3c647283",
                "language": "sql"
            },
            "outputs": [
                {
                    "output_type": "display_data",
                    "data": {
                        "text/html": "(10 rows affected)"
                    },
                    "metadata": {}
                },
                {
                    "output_type": "display_data",
                    "data": {
                        "text/html": "Total execution time: 00:00:00.042"
                    },
                    "metadata": {}
                },
                {
                    "output_type": "execute_result",
                    "metadata": {},
                    "execution_count": 19,
                    "data": {
                        "application/vnd.dataresource+json": {
                            "schema": {
                                "fields": [
                                    {
                                        "name": "product_brand"
                                    },
                                    {
                                        "name": "Total Quantity"
                                    }
                                ]
                            },
                            "data": [
                                {
                                    "product_brand": "Hermanos",
                                    "Total Quantity": "24229"
                                },
                                {
                                    "product_brand": "Tell Tale",
                                    "Total Quantity": "23004"
                                },
                                {
                                    "product_brand": "Ebony",
                                    "Total Quantity": "22703"
                                },
                                {
                                    "product_brand": "Tri-State",
                                    "Total Quantity": "22282"
                                },
                                {
                                    "product_brand": "High Top",
                                    "Total Quantity": "21139"
                                },
                                {
                                    "product_brand": "Nationeel",
                                    "Total Quantity": "19462"
                                },
                                {
                                    "product_brand": "Fast",
                                    "Total Quantity": "18498"
                                },
                                {
                                    "product_brand": "Fort West",
                                    "Total Quantity": "18285"
                                },
                                {
                                    "product_brand": "Horatio",
                                    "Total Quantity": "18243"
                                },
                                {
                                    "product_brand": "Best Choice",
                                    "Total Quantity": "17689"
                                }
                            ]
                        },
                        "text/html": [
                            "<table>",
                            "<tr><th>product_brand</th><th>Total Quantity</th></tr>",
                            "<tr><td>Hermanos</td><td>24229</td></tr>",
                            "<tr><td>Tell Tale</td><td>23004</td></tr>",
                            "<tr><td>Ebony</td><td>22703</td></tr>",
                            "<tr><td>Tri-State</td><td>22282</td></tr>",
                            "<tr><td>High Top</td><td>21139</td></tr>",
                            "<tr><td>Nationeel</td><td>19462</td></tr>",
                            "<tr><td>Fast</td><td>18498</td></tr>",
                            "<tr><td>Fort West</td><td>18285</td></tr>",
                            "<tr><td>Horatio</td><td>18243</td></tr>",
                            "<tr><td>Best Choice</td><td>17689</td></tr>",
                            "</table>"
                        ]
                    }
                }
            ],
            "execution_count": 19
        },
        {
            "cell_type": "markdown",
            "source": [
                "💥💥💥💥Trick 20: Return the TOP 5 Cities according to sales\n",
                "\n",
                "Explanation: Select store\\_city and SUM(total\\_sale) as 'Total Sales' from cities\\_dim and transactions\\_fact tables. INNER JOIN with city\\_id. GROUP BY store\\_city\n",
                "\n",
                "```\n",
                "SELECT TOP 5 cy.store_city,\n",
                "       SUM(tr.total_sale) as 'Total Sales'\n",
                "FROM dbo.cities_dim cy\n",
                "JOIN dbo.transactions_fact tr\n",
                "ON cy.city_id = tr.city_id\n",
                "GROUP BY cy.store_city\n",
                "ORDER BY [Total Sales] DESC\n",
                "```"
            ],
            "metadata": {
                "azdata_cell_guid": "40805591-79c7-4788-90ee-e88cda4eb627"
            },
            "attachments": {}
        },
        {
            "cell_type": "code",
            "source": [
                "SELECT TOP 5 cy.store_city,\r\n",
                "       SUM(tr.total_sale) as 'Total Sales'\r\n",
                "FROM dbo.cities_dim cy\r\n",
                "JOIN dbo.transactions_fact tr\r\n",
                "ON cy.city_id = tr.city_id\r\n",
                "GROUP BY cy.store_city\r\n",
                "ORDER BY [Total Sales] DESC"
            ],
            "metadata": {
                "azdata_cell_guid": "e97bd2ea-473f-46b0-8fb8-6e5672c79cd6",
                "language": "sql"
            },
            "outputs": [
                {
                    "output_type": "display_data",
                    "data": {
                        "text/html": "(5 rows affected)"
                    },
                    "metadata": {}
                },
                {
                    "output_type": "display_data",
                    "data": {
                        "text/html": "Total execution time: 00:00:00.052"
                    },
                    "metadata": {}
                },
                {
                    "output_type": "execute_result",
                    "metadata": {},
                    "execution_count": 20,
                    "data": {
                        "application/vnd.dataresource+json": {
                            "schema": {
                                "fields": [
                                    {
                                        "name": "store_city"
                                    },
                                    {
                                        "name": "Total Sales"
                                    }
                                ]
                            },
                            "data": [
                                {
                                    "store_city": "Salem",
                                    "Total Sales": "359772.6567313671"
                                },
                                {
                                    "store_city": "Tacoma",
                                    "Total Sales": "332230.80072283745"
                                },
                                {
                                    "store_city": "Seattle",
                                    "Total Sales": "244510.1284675598"
                                },
                                {
                                    "store_city": "Portland",
                                    "Total Sales": "242800.89653372765"
                                },
                                {
                                    "store_city": "Los Angeles",
                                    "Total Sales": "234786.0483932495"
                                }
                            ]
                        },
                        "text/html": [
                            "<table>",
                            "<tr><th>store_city</th><th>Total Sales</th></tr>",
                            "<tr><td>Salem</td><td>359772.6567313671</td></tr>",
                            "<tr><td>Tacoma</td><td>332230.80072283745</td></tr>",
                            "<tr><td>Seattle</td><td>244510.1284675598</td></tr>",
                            "<tr><td>Portland</td><td>242800.89653372765</td></tr>",
                            "<tr><td>Los Angeles</td><td>234786.0483932495</td></tr>",
                            "</table>"
                        ]
                    }
                }
            ],
            "execution_count": 20
        },
        {
            "cell_type": "markdown",
            "source": [
                "💥💥💥💥Trick 21: Return Total sales for each product by city\n",
                "\n",
                "Explanation: You need three tables to report this information. INNER JOIN transactions\\_fact with cities\\_dim together via city\\_id. INNER JOIN cities\\_dim with products\\_dim via product\\_id. GROUP BY store\\_city, product\\_name\n",
                "\n",
                "```\n",
                "SELECT cy.store_city as 'Store City', \n",
                "        pro.product_name as 'Product Name', \n",
                "SUM(tr.total_sale) AS 'Total Sales'\n",
                "FROM dbo.transactions_fact tr\n",
                "        JOIN dbo.cities_dim cy \n",
                "        ON tr.city_id = cy.city_id\n",
                "        JOIN dbo.products_dim pro \n",
                "        ON tr.product_id = pro.product_id\n",
                "GROUP BY cy.store_city, pro.product_name;\n",
                "\n",
                "```"
            ],
            "metadata": {
                "azdata_cell_guid": "41af6472-0702-4665-a340-de43bbeb3a69"
            },
            "attachments": {}
        },
        {
            "cell_type": "code",
            "source": [
                "SELECT TOP 10 cy.store_city as 'Store City', \r\n",
                "\t\tpro.product_name as 'Product Name', \r\n",
                "SUM(tr.total_sale) AS 'Total Sales'\r\n",
                "FROM dbo.transactions_fact tr\r\n",
                "\t\tJOIN dbo.cities_dim cy \r\n",
                "\t\tON tr.city_id = cy.city_id\r\n",
                "\t\tJOIN dbo.products_dim pro \r\n",
                "\t\tON tr.product_id = pro.product_id\r\n",
                "GROUP BY cy.store_city, pro.product_name;"
            ],
            "metadata": {
                "azdata_cell_guid": "98f5c1c2-81fe-46cb-8516-3420771c6c5a",
                "language": "sql"
            },
            "outputs": [
                {
                    "output_type": "display_data",
                    "data": {
                        "text/html": "(10 rows affected)"
                    },
                    "metadata": {}
                },
                {
                    "output_type": "display_data",
                    "data": {
                        "text/html": "Total execution time: 00:00:00.129"
                    },
                    "metadata": {}
                },
                {
                    "output_type": "execute_result",
                    "metadata": {},
                    "execution_count": 21,
                    "data": {
                        "application/vnd.dataresource+json": {
                            "schema": {
                                "fields": [
                                    {
                                        "name": "Store City"
                                    },
                                    {
                                        "name": "Product Name"
                                    },
                                    {
                                        "name": "Total Sales"
                                    }
                                ]
                            },
                            "data": [
                                {
                                    "Store City": "Beverly Hills",
                                    "Product Name": "Red Spade Sliced Chicken",
                                    "Total Sales": "97.34400272369385"
                                },
                                {
                                    "Store City": "Tacoma",
                                    "Product Name": "Imagine Frozen Cheese Pizza",
                                    "Total Sales": "276.4800052642822"
                                },
                                {
                                    "Store City": "Salem",
                                    "Product Name": "Black Tie City Map",
                                    "Total Sales": "205.98400688171387"
                                },
                                {
                                    "Store City": "Victoria",
                                    "Product Name": "Colony Blueberry Muffins",
                                    "Total Sales": "47.616000175476074"
                                },
                                {
                                    "Store City": "Walla Walla",
                                    "Product Name": "Red Spade Foot-Long Hot Dogs",
                                    "Total Sales": "51.263999938964844"
                                },
                                {
                                    "Store City": "San Francisco",
                                    "Product Name": "Consolidated Apricot Shampoo",
                                    "Total Sales": "9.216000080108643"
                                },
                                {
                                    "Store City": "Portland",
                                    "Product Name": "Washington Cream Soda",
                                    "Total Sales": "163.07200622558594"
                                },
                                {
                                    "Store City": "Los Angeles",
                                    "Product Name": "Sunset Paper Towels",
                                    "Total Sales": "118.97599458694458"
                                },
                                {
                                    "Store City": "Bellingham",
                                    "Product Name": "Consolidated HCL Nasal Spray",
                                    "Total Sales": "28.160000801086426"
                                },
                                {
                                    "Store City": "Victoria",
                                    "Product Name": "Sunset Paper Plates",
                                    "Total Sales": "8.399999618530273"
                                }
                            ]
                        },
                        "text/html": [
                            "<table>",
                            "<tr><th>Store City</th><th>Product Name</th><th>Total Sales</th></tr>",
                            "<tr><td>Beverly Hills</td><td>Red Spade Sliced Chicken</td><td>97.34400272369385</td></tr>",
                            "<tr><td>Tacoma</td><td>Imagine Frozen Cheese Pizza</td><td>276.4800052642822</td></tr>",
                            "<tr><td>Salem</td><td>Black Tie City Map</td><td>205.98400688171387</td></tr>",
                            "<tr><td>Victoria</td><td>Colony Blueberry Muffins</td><td>47.616000175476074</td></tr>",
                            "<tr><td>Walla Walla</td><td>Red Spade Foot-Long Hot Dogs</td><td>51.263999938964844</td></tr>",
                            "<tr><td>San Francisco</td><td>Consolidated Apricot Shampoo</td><td>9.216000080108643</td></tr>",
                            "<tr><td>Portland</td><td>Washington Cream Soda</td><td>163.07200622558594</td></tr>",
                            "<tr><td>Los Angeles</td><td>Sunset Paper Towels</td><td>118.97599458694458</td></tr>",
                            "<tr><td>Bellingham</td><td>Consolidated HCL Nasal Spray</td><td>28.160000801086426</td></tr>",
                            "<tr><td>Victoria</td><td>Sunset Paper Plates</td><td>8.399999618530273</td></tr>",
                            "</table>"
                        ]
                    }
                }
            ],
            "execution_count": 21
        },
        {
            "cell_type": "markdown",
            "source": [
                "💥💥💥💥💥Trick 22: Return the percentage of total sales per product\n",
                "\n",
                "Explanation: SELECT product\\_name, <span style=\"color: rgb(33, 33, 33); font-family: Consolas, &quot;Courier New&quot;, monospace; font-size: 12px; white-space: pre;\">(</span><span style=\"font-family: Consolas, &quot;Courier New&quot;, monospace; font-size: 12px; white-space: pre; color: rgb(121, 94, 38);\">SUM</span><span style=\"color: rgb(33, 33, 33); font-family: Consolas, &quot;Courier New&quot;, monospace; font-size: 12px; white-space: pre;\">(tr.total_sale) </span> <span style=\"font-family: Consolas, &quot;Courier New&quot;, monospace; font-size: 12px; white-space: pre;\"><font color=\"#000000\">divide</font></span> <span style=\"color: rgb(33, 33, 33); font-family: Consolas, &quot;Courier New&quot;, monospace; font-size: 12px; white-space: pre;\">(</span><span style=\"font-family: Consolas, &quot;Courier New&quot;, monospace; font-size: 12px; white-space: pre; color: rgb(0, 0, 255);\">SELECT</span> <span style=\"font-family: Consolas, &quot;Courier New&quot;, monospace; font-size: 12px; white-space: pre; color: rgb(121, 94, 38);\">SUM</span><span style=\"color: rgb(33, 33, 33); font-family: Consolas, &quot;Courier New&quot;, monospace; font-size: 12px; white-space: pre;\">(total_sale) </span> <span style=\"font-family: Consolas, &quot;Courier New&quot;, monospace; font-size: 12px; white-space: pre; color: rgb(0, 0, 255);\">FROM</span> <span style=\"color: rgb(33, 33, 33); font-family: Consolas, &quot;Courier New&quot;, monospace; font-size: 12px; white-space: pre;\">dbo.transactions_fact) </span> <span style=\"font-family: Consolas, &quot;Courier New&quot;, monospace; font-size: 12px; white-space: pre; color: rgb(0, 0, 0);\">*</span> <span style=\"font-family: Consolas, &quot;Courier New&quot;, monospace; font-size: 12px; white-space: pre; color: rgb(9, 136, 90);\">100</span><span style=\"color: rgb(33, 33, 33); font-family: Consolas, &quot;Courier New&quot;, monospace; font-size: 12px; white-space: pre;\">) </span> <span style=\"font-family: Consolas, &quot;Courier New&quot;, monospace; font-size: 12px; white-space: pre; color: rgb(0, 0, 255);\">AS</span> <span style=\"font-family: Consolas, &quot;Courier New&quot;, monospace; font-size: 12px; white-space: pre; color: rgb(163, 21, 21);\">'Percentage Sales' INNER JOIN transactions_fact table via product_id. WHERE clause is use to find product_name LIKE 'K%'</span>\n",
                "\n",
                "```\n",
                "SELECT pro.product_name, \n",
                "       (SUM(tr.total_sale) / (SELECT SUM(total_sale) \n",
                "       FROM dbo.transactions_fact) * 100) AS 'Percentage Sales' \n",
                "FROM dbo.products_dim pro \n",
                "        JOIN dbo.transactions_fact tr \n",
                "        ON pro.product_id = tr.product_id \n",
                "WHERE pro.product_name LIKE 'K%'\n",
                "GROUP BY pro.product_name \n",
                "\n",
                "```\n",
                "\n",
                "<span style=\"color: var(--vscode-foreground);\"><br></span>"
            ],
            "metadata": {
                "azdata_cell_guid": "2f944b67-18e8-4dad-acb4-a3fcb4109b9b"
            },
            "attachments": {}
        },
        {
            "cell_type": "code",
            "source": [
                "SELECT pro.product_name, \r\n",
                "       (SUM(tr.total_sale) / (SELECT SUM(total_sale) \r\n",
                "\t   FROM dbo.transactions_fact) * 100) AS 'Percentage Sales' \r\n",
                "FROM dbo.products_dim pro \r\n",
                "\t\tJOIN dbo.transactions_fact tr \r\n",
                "\t\tON pro.product_id = tr.product_id \r\n",
                "WHERE pro.product_name LIKE 'K%'\r\n",
                "GROUP BY pro.product_name "
            ],
            "metadata": {
                "azdata_cell_guid": "3e703895-d4fa-4b9f-9c55-57ea549ac016",
                "language": "sql",
                "tags": []
            },
            "outputs": [
                {
                    "output_type": "display_data",
                    "data": {
                        "text/html": "(2 rows affected)"
                    },
                    "metadata": {}
                },
                {
                    "output_type": "display_data",
                    "data": {
                        "text/html": "Total execution time: 00:00:00.080"
                    },
                    "metadata": {}
                },
                {
                    "output_type": "execute_result",
                    "metadata": {},
                    "execution_count": 22,
                    "data": {
                        "application/vnd.dataresource+json": {
                            "schema": {
                                "fields": [
                                    {
                                        "name": "product_name"
                                    },
                                    {
                                        "name": "Percentage Sales"
                                    }
                                ]
                            },
                            "data": [
                                {
                                    "product_name": "Kiwi Lox",
                                    "Percentage Sales": "0.07006378065163273"
                                },
                                {
                                    "product_name": "Kiwi Scallops",
                                    "Percentage Sales": "0.07634925469749582"
                                }
                            ]
                        },
                        "text/html": [
                            "<table>",
                            "<tr><th>product_name</th><th>Percentage Sales</th></tr>",
                            "<tr><td>Kiwi Lox</td><td>0.07006378065163273</td></tr>",
                            "<tr><td>Kiwi Scallops</td><td>0.07634925469749582</td></tr>",
                            "</table>"
                        ]
                    }
                }
            ],
            "execution_count": 22
        },
        {
            "cell_type": "markdown",
            "source": [
                "Trick 23: Return products that have sold more than average where their <span style=\"color: var(--vscode-foreground);\">names begin with 'J' and end with 'S.'</span>\n",
                "\n",
                "<span style=\"color: var(--vscode-foreground);\">Explanation:</span>SELECT product\\_id, <span style=\"color: var(--vscode-foreground);\">&nbsp;product_name&nbsp;</span> <span style=\"color: var(--vscode-foreground);\">product_bran&nbsp;</span> <span style=\"color: var(--vscode-foreground);\">from products_dim&nbsp;</span> <span style=\"color: var(--vscode-foreground);\">WHERE product_id IN (SELECT product_id from transactions_fact. Then GROUP BY product_id Use HAVING SUM(total_sale) &gt;&nbsp;</span> <span style=\"color: var(--vscode-foreground);\">(SELECT AVG(total_sale) FROM transactions_fact))&nbsp;</span> <span style=\"color: var(--vscode-foreground);\">AND product_brand LIKE 'J%S'</span>\n",
                "\n",
                "<span style=\"color: var(--vscode-foreground);\"><br></span>\n",
                "\n",
                "```\n",
                "SELECT product_id,\n",
                "       product_name,\n",
                "\t   product_brand\n",
                "FROM dbo.products_dim \n",
                "WHERE product_id IN (SELECT product_id FROM dbo.transactions_fact GROUP BY product_id HAVING SUM(total_sale) > \n",
                "(SELECT AVG(total_sale) FROM dbo.transactions_fact))\n",
                "AND product_brand LIKE 'J%S'\n",
                "```"
            ],
            "metadata": {
                "azdata_cell_guid": "68337673-b3c7-4fa1-b1f6-b9c5e1f0bd16"
            },
            "attachments": {}
        },
        {
            "cell_type": "code",
            "source": [
                "SELECT product_id,\r\n",
                "       product_name,\r\n",
                "\t   product_brand\r\n",
                "FROM dbo.products_dim \r\n",
                "WHERE product_id IN (SELECT product_id FROM dbo.transactions_fact GROUP BY product_id HAVING SUM(total_sale) > \r\n",
                "(SELECT AVG(total_sale) FROM dbo.transactions_fact))\r\n",
                "AND product_brand LIKE 'J%S'"
            ],
            "metadata": {
                "azdata_cell_guid": "6f876017-3a2b-4b2e-a543-422edc25f97e",
                "language": "sql"
            },
            "outputs": [
                {
                    "output_type": "display_data",
                    "data": {
                        "text/html": "(4 rows affected)"
                    },
                    "metadata": {}
                },
                {
                    "output_type": "display_data",
                    "data": {
                        "text/html": "Total execution time: 00:00:00.116"
                    },
                    "metadata": {}
                },
                {
                    "output_type": "execute_result",
                    "metadata": {},
                    "execution_count": 23,
                    "data": {
                        "application/vnd.dataresource+json": {
                            "schema": {
                                "fields": [
                                    {
                                        "name": "product_id"
                                    },
                                    {
                                        "name": "product_name"
                                    },
                                    {
                                        "name": "product_brand"
                                    }
                                ]
                            },
                            "data": [
                                {
                                    "product_id": "12",
                                    "product_name": "Jeffers Oatmeal",
                                    "product_brand": "Jeffers"
                                },
                                {
                                    "product_id": "13",
                                    "product_name": "Jeffers Corn Puffs",
                                    "product_brand": "Jeffers"
                                },
                                {
                                    "product_id": "14",
                                    "product_name": "Jeffers Wheat Puffs",
                                    "product_brand": "Jeffers"
                                },
                                {
                                    "product_id": "15",
                                    "product_name": "Jeffers Grits",
                                    "product_brand": "Jeffers"
                                }
                            ]
                        },
                        "text/html": [
                            "<table>",
                            "<tr><th>product_id</th><th>product_name</th><th>product_brand</th></tr>",
                            "<tr><td>12</td><td>Jeffers Oatmeal</td><td>Jeffers</td></tr>",
                            "<tr><td>13</td><td>Jeffers Corn Puffs</td><td>Jeffers</td></tr>",
                            "<tr><td>14</td><td>Jeffers Wheat Puffs</td><td>Jeffers</td></tr>",
                            "<tr><td>15</td><td>Jeffers Grits</td><td>Jeffers</td></tr>",
                            "</table>"
                        ]
                    }
                }
            ],
            "execution_count": 23
        },
        {
            "cell_type": "markdown",
            "source": [
                "💥💥💥💥💥Trick 24: Return all products that were never sold\n",
                "\n",
                "Explanation: SELECT product\\_name AS 'Product Name' <span style=\"color: var(--vscode-foreground);\">from products_dim&nbsp;</span> <span style=\"color: var(--vscode-foreground);\">WHERE product_id NOT IN (SELECT DISTINCT product_id from transactions_fact)&nbsp;</span> <span style=\"color: var(--vscode-foreground);\">UNION</span>\n",
                "\n",
                "SELECT product\\_name <span style=\"color: var(--vscode-foreground);\">from products_dim&nbsp;</span> <span style=\"color: var(--vscode-foreground);\">WHERE product_brand = 'BrandC' AND product_id NOT IN (SELECT DISTINCT product_id from transactions_fact)</span>\n",
                "\n",
                "```\n",
                "SELECT product_name AS 'Product Name'\n",
                "FROM dbo.products_dim\n",
                "WHERE product_id NOT IN (SELECT DISTINCT product_id FROM dbo.transactions_fact)\n",
                "UNION\n",
                "SELECT product_name\n",
                "FROM dbo.products_dim\n",
                "WHERE product_brand = 'BrandC' AND product_id NOT IN (SELECT DISTINCT product_id FROM dbo.transactions_fact)\n",
                "\n",
                "```"
            ],
            "metadata": {
                "azdata_cell_guid": "ca3b9ef5-c9ea-421b-ad96-ea7270f2fe8b"
            },
            "attachments": {}
        },
        {
            "cell_type": "code",
            "source": [
                "SELECT product_name AS 'Product Name'\r\n",
                "FROM dbo.products_dim\r\n",
                "WHERE product_id NOT IN (SELECT DISTINCT product_id FROM dbo.transactions_fact)\r\n",
                "UNION\r\n",
                "SELECT product_name\r\n",
                "FROM dbo.products_dim\r\n",
                "WHERE product_brand = 'BrandC' AND product_id NOT IN (SELECT DISTINCT product_id FROM dbo.transactions_fact)"
            ],
            "metadata": {
                "azdata_cell_guid": "4982fa6d-082f-4d71-8f1e-ca44067cdb21",
                "language": "sql"
            },
            "outputs": [
                {
                    "output_type": "display_data",
                    "data": {
                        "text/html": "(3 rows affected)"
                    },
                    "metadata": {}
                },
                {
                    "output_type": "display_data",
                    "data": {
                        "text/html": "Total execution time: 00:00:00.071"
                    },
                    "metadata": {}
                },
                {
                    "output_type": "execute_result",
                    "metadata": {},
                    "execution_count": 26,
                    "data": {
                        "application/vnd.dataresource+json": {
                            "schema": {
                                "fields": [
                                    {
                                        "name": "Product Name"
                                    }
                                ]
                            },
                            "data": [
                                {
                                    "Product Name": "CDR Grape Jelly"
                                },
                                {
                                    "Product Name": "King Rosy Sunglasses"
                                },
                                {
                                    "Product Name": "Toretti Rosy Sunglasses"
                                }
                            ]
                        },
                        "text/html": [
                            "<table>",
                            "<tr><th>Product Name</th></tr>",
                            "<tr><td>CDR Grape Jelly</td></tr>",
                            "<tr><td>King Rosy Sunglasses</td></tr>",
                            "<tr><td>Toretti Rosy Sunglasses</td></tr>",
                            "</table>"
                        ]
                    }
                }
            ],
            "execution_count": 26
        },
        {
            "cell_type": "markdown",
            "source": [
                "💥💥💥💥💥Trick 25: Return the Total Sales by each year\n",
                "\n",
                "Explanation: SELECT transaction\\_year 'Year of Transaction', Use function <span style=\"color: var(--vscode-foreground);\">SUM(total_sale) AS 'Total Sale'&nbsp;</span> <span style=\"color: var(--vscode-foreground);\">FROM transactions_fact Use clause&nbsp;</span> <span style=\"color: var(--vscode-foreground);\">GROUP BY transaction_year&nbsp;</span> <span style=\"color: var(--vscode-foreground);\">UNION</span>\n",
                "\n",
                "SELECT transaction\\_year AS 'Year of Transaction', <span style=\"color: var(--vscode-foreground);\">&nbsp;SUM(total_sale) AS 'Total Sales'&nbsp;</span> <span style=\"color: var(--vscode-foreground);\">FROM transactions_fact&nbsp;</span> <span style=\"color: var(--vscode-foreground);\">WHERE transaction_year = 2023&nbsp;</span> <span style=\"color: var(--vscode-foreground);\">GROUP BY transaction_year;</span>\n",
                "\n",
                "```\n",
                "SELECT transaction_year 'Year of Transaction', \n",
                "       SUM(total_sale) AS 'Total Sales'\n",
                "FROM dbo.transactions_fact\n",
                "GROUP BY transaction_year\n",
                "UNION\n",
                "SELECT transaction_year AS 'Year of Transaction', \n",
                "        SUM(total_sale) AS 'Total Sales'\n",
                "FROM dbo.transactions_fact\n",
                "WHERE transaction_year = 2023\n",
                "GROUP BY transaction_year;\n",
                "\n",
                "```"
            ],
            "metadata": {
                "azdata_cell_guid": "f4711d64-406a-463e-9c12-4fe16c73f003"
            },
            "attachments": {}
        },
        {
            "cell_type": "code",
            "source": [
                "SELECT transaction_year 'Year of Transaction', \r\n",
                "       SUM(total_sale) AS 'Total Sales'\r\n",
                "FROM dbo.transactions_fact\r\n",
                "GROUP BY transaction_year\r\n",
                "UNION\r\n",
                "SELECT transaction_year AS 'Year of Transaction', \r\n",
                "        SUM(total_sale) AS 'Total Sales'\r\n",
                "FROM dbo.transactions_fact\r\n",
                "WHERE transaction_year = 2023\r\n",
                "GROUP BY transaction_year;"
            ],
            "metadata": {
                "azdata_cell_guid": "1c26397f-0f44-482d-bf2a-4f5f8592bd30",
                "language": "sql"
            },
            "outputs": [
                {
                    "output_type": "display_data",
                    "data": {
                        "text/html": "(2 rows affected)"
                    },
                    "metadata": {}
                },
                {
                    "output_type": "display_data",
                    "data": {
                        "text/html": "Total execution time: 00:00:00.089"
                    },
                    "metadata": {}
                },
                {
                    "output_type": "execute_result",
                    "metadata": {},
                    "execution_count": 27,
                    "data": {
                        "application/vnd.dataresource+json": {
                            "schema": {
                                "fields": [
                                    {
                                        "name": "Year of Transaction"
                                    },
                                    {
                                        "name": "Total Sales"
                                    }
                                ]
                            },
                            "data": [
                                {
                                    "Year of Transaction": "2022",
                                    "Total Sales": "1198060.434512496"
                                },
                                {
                                    "Year of Transaction": "2023",
                                    "Total Sales": "1525172.5470485687"
                                }
                            ]
                        },
                        "text/html": [
                            "<table>",
                            "<tr><th>Year of Transaction</th><th>Total Sales</th></tr>",
                            "<tr><td>2022</td><td>1198060.434512496</td></tr>",
                            "<tr><td>2023</td><td>1525172.5470485687</td></tr>",
                            "</table>"
                        ]
                    }
                }
            ],
            "execution_count": 27
        },
        {
            "cell_type": "markdown",
            "source": [
                ""
            ],
            "metadata": {
                "azdata_cell_guid": "229155d7-e669-459f-93ba-75dbb56e8a8f"
            }
        }
    ]
}